{
  "nbformat": 4,
  "nbformat_minor": 0,
  "metadata": {
    "colab": {
      "name": "Cheers-Challenges-function.ipynb",
      "provenance": [],
      "authorship_tag": "ABX9TyNINfbG2IFLep/rOncy68Nu",
      "include_colab_link": true
    },
    "kernelspec": {
      "name": "python3",
      "display_name": "Python 3"
    }
  },
  "cells": [
    {
      "cell_type": "markdown",
      "metadata": {
        "id": "view-in-github",
        "colab_type": "text"
      },
      "source": [
        "<a href=\"https://colab.research.google.com/github/elsiecolme/EscapeEarth/blob/main/INTERNS/Elise/Cheers_Challenges_function.ipynb\" target=\"_parent\"><img src=\"https://colab.research.google.com/assets/colab-badge.svg\" alt=\"Open In Colab\"/></a>"
      ]
    },
    {
      "cell_type": "code",
      "metadata": {
        "id": "_yQSvORK-LJq"
      },
      "source": [
        "# Created a list with all of our names\n",
        "names = [\"Olivia\",\"Sarah\",\"Maria\",\"Anna-Claire\",\"Eliza\",\"Elise\"]"
      ],
      "execution_count": null,
      "outputs": []
    },
    {
      "cell_type": "code",
      "metadata": {
        "id": "NI63oruuAUYv"
      },
      "source": [
        "# Imported a new library\n",
        "import random \n",
        "\n",
        "def Random(names):\n",
        "  name = random.choice(names) #Function that randomly selects a string within the list\n",
        "\n",
        "  return name"
      ],
      "execution_count": null,
      "outputs": []
    },
    {
      "cell_type": "code",
      "metadata": {
        "id": "Upq3Q2SW9p_5",
        "outputId": "c3f8ef3f-7612-42b6-e371-23c67e4e814f",
        "colab": {
          "base_uri": "https://localhost:8080/",
          "height": 35
        }
      },
      "source": [
        "Random(names)"
      ],
      "execution_count": null,
      "outputs": [
        {
          "output_type": "execute_result",
          "data": {
            "application/vnd.google.colaboratory.intrinsic+json": {
              "type": "string"
            },
            "text/plain": [
              "'Sarah'"
            ]
          },
          "metadata": {
            "tags": []
          },
          "execution_count": 29
        }
      ]
    }
  ]
}