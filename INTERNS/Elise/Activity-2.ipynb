{
 "cells": [
  {
   "cell_type": "code",
   "execution_count": 2,
   "metadata": {},
   "outputs": [
    {
     "data": {
      "text/html": [
       "<div>\n",
       "<style scoped>\n",
       "    .dataframe tbody tr th:only-of-type {\n",
       "        vertical-align: middle;\n",
       "    }\n",
       "\n",
       "    .dataframe tbody tr th {\n",
       "        vertical-align: top;\n",
       "    }\n",
       "\n",
       "    .dataframe thead th {\n",
       "        text-align: right;\n",
       "    }\n",
       "</style>\n",
       "<table border=\"1\" class=\"dataframe\">\n",
       "  <thead>\n",
       "    <tr style=\"text-align: right;\">\n",
       "      <th></th>\n",
       "      <th>col1</th>\n",
       "      <th>col2</th>\n",
       "    </tr>\n",
       "  </thead>\n",
       "  <tbody>\n",
       "    <tr>\n",
       "      <th>0</th>\n",
       "      <td>272.3966</td>\n",
       "      <td>45.8308</td>\n",
       "    </tr>\n",
       "    <tr>\n",
       "      <th>1</th>\n",
       "      <td>272.3288</td>\n",
       "      <td>45.9244</td>\n",
       "    </tr>\n",
       "    <tr>\n",
       "      <th>2</th>\n",
       "      <td>272.3307</td>\n",
       "      <td>45.9255</td>\n",
       "    </tr>\n",
       "    <tr>\n",
       "      <th>3</th>\n",
       "      <td>272.3711</td>\n",
       "      <td>47.2259</td>\n",
       "    </tr>\n",
       "    <tr>\n",
       "      <th>4</th>\n",
       "      <td>272.5282</td>\n",
       "      <td>47.0887</td>\n",
       "    </tr>\n",
       "  </tbody>\n",
       "</table>\n",
       "</div>"
      ],
      "text/plain": [
       "       col1     col2\n",
       "0  272.3966  45.8308\n",
       "1  272.3288  45.9244\n",
       "2  272.3307  45.9255\n",
       "3  272.3711  47.2259\n",
       "4  272.5282  47.0887"
      ]
     },
     "execution_count": 2,
     "metadata": {},
     "output_type": "execute_result"
    }
   ],
   "source": [
    "import pandas as pd\n",
    "import numpy as np \n",
    "import matplotlib.pyplot as plt\n",
    "\n",
    "df1 = pd.read_csv(\"~/Desktop/Activity-2/df1.csv\")\n",
    "df2 = pd.read_csv(\"~/Desktop/Activity-2/df2.csv\")\n",
    "df3 = pd.read_csv(\"~/Desktop/Activity-2/df3.csv\")\n",
    "df4 = pd.read_csv(\"~/Desktop/Activity-2/df4.csv\")\n",
    "df5 = pd.read_csv(\"~/Desktop/Activity-2/df5.csv\")\n",
    "df6 = pd.read_csv(\"~/Desktop/Activity-2/df6.csv\")\n",
    "df7 = pd.read_csv(\"~/Desktop/Activity-2/df7.csv\")\n",
    "df8 = pd.read_csv(\"~/Desktop/Activity-2/df8.csv\")\n",
    "df1.head()"
   ]
  },
  {
   "cell_type": "code",
   "execution_count": null,
   "metadata": {},
   "outputs": [],
   "source": [
    "plt.scatter(df1['col1'],df1['col2'])"
   ]
  },
  {
   "cell_type": "code",
   "execution_count": null,
   "metadata": {},
   "outputs": [],
   "source": [
    "import astropy\n",
    "from astropy.coordinates import SkyCoord\n",
    "\n",
    "c_old = SkyCoord([df1['col1'].to_numpy()], [df1['col2'].to_numpy()], frame='icrs',unit='degree') #replace df1 if your variable names are different \n",
    "c_new = c_old.galactic\n",
    "for count in range(len(c_new[0])):\n",
    "        df1_new_col1 = c_new[0].l.degree\n",
    "        df1_new_col2 = c_new[0].b.degree\n",
    "new_data = {'col1':df1_new_col1,'col2':df1_new_col2}\n",
    "df1_new = pd.DataFrame(new_data)"
   ]
  },
  {
   "cell_type": "code",
   "execution_count": null,
   "metadata": {},
   "outputs": [],
   "source": []
  }
 ],
 "metadata": {
  "kernelspec": {
   "display_name": "Python 3",
   "language": "python",
   "name": "python3"
  },
  "language_info": {
   "codemirror_mode": {
    "name": "ipython",
    "version": 3
   },
   "file_extension": ".py",
   "mimetype": "text/x-python",
   "name": "python",
   "nbconvert_exporter": "python",
   "pygments_lexer": "ipython3",
   "version": "3.7.3"
  }
 },
 "nbformat": 4,
 "nbformat_minor": 2
}
