{
  "nbformat": 4,
  "nbformat_minor": 0,
  "metadata": {
    "colab": {
      "name": "FinalResults.ipynb",
      "provenance": [],
      "authorship_tag": "ABX9TyO5buEp9UWx6T0EgBFTYif6",
      "include_colab_link": true
    },
    "kernelspec": {
      "name": "python3",
      "display_name": "Python 3"
    },
    "language_info": {
      "name": "python"
    }
  },
  "cells": [
    {
      "cell_type": "markdown",
      "metadata": {
        "id": "view-in-github",
        "colab_type": "text"
      },
      "source": [
        "<a href=\"https://colab.research.google.com/github/liscolme/EscapeEarth/blob/main/Interns/Elise/FinalResults.ipynb\" target=\"_parent\"><img src=\"https://colab.research.google.com/assets/colab-badge.svg\" alt=\"Open In Colab\"/></a>"
      ]
    },
    {
      "cell_type": "code",
      "metadata": {
        "colab": {
          "base_uri": "https://localhost:8080/"
        },
        "id": "iM56RiNogcoF",
        "outputId": "9b8fbf60-2dca-4797-84c2-b06a89b57972"
      },
      "source": [
        "#mount google drive\n",
        "\n",
        "from google.colab import drive\n",
        "drive.mount('/content/gdrive',force_remount = True)"
      ],
      "execution_count": null,
      "outputs": [
        {
          "output_type": "stream",
          "text": [
            "Mounted at /content/gdrive\n"
          ],
          "name": "stdout"
        }
      ]
    },
    {
      "cell_type": "code",
      "metadata": {
        "id": "TZFLCk4Mgfl8"
      },
      "source": [
        "## typical imports\n",
        "%matplotlib inline\n",
        "import matplotlib.pyplot as plt\n",
        "!pip install lightkurve==1.9.0\n",
        "import lightkurve as lk\n",
        "import numpy as np\n",
        "import pandas as pd\n",
        "\n",
        "import sys\n",
        "sys.path.append('/content/gdrive/My Drive/EscapeEarthData/')\n",
        "import LCAnalysis_test as lca\n",
        "\n",
        "from astroquery.mast import Catalogs"
      ],
      "execution_count": null,
      "outputs": []
    },
    {
      "cell_type": "code",
      "metadata": {
        "id": "kQIqC0VjhC02"
      },
      "source": [
        "#planet radii calculation fcn\n",
        "def planet_radii(depth, star_radius):\n",
        "    import math as m\n",
        "    R_Sun = 696340000 #m\n",
        "    R_Earth = 6371000 #m\n",
        "    r_star = star_radius * R_Sun #b/c in R_Sun units\n",
        "    radius = r_star * m.sqrt(depth) \n",
        "    r_planet = radius / R_Earth #b/c need in R_Earth\n",
        "    return r_planet"
      ],
      "execution_count": null,
      "outputs": []
    },
    {
      "cell_type": "code",
      "metadata": {
        "id": "LIX84Hcwhp18"
      },
      "source": [
        "# candidates with BLS stats\n",
        "old_candidates = pd.read_csv('/content/gdrive/My Drive/EscapeEarthData/final_candidates_withBLS_stats.csv')\n",
        "classes_by_eye = pd.read_csv('/content/gdrive/My Drive/EscapeEarthData/Final_candidate_classes.csv')\n",
        "final_planets = pd.read_csv('/content/gdrive/My Drive/EscapeEarthData/final_final_candidates.csv')"
      ],
      "execution_count": null,
      "outputs": []
    },
    {
      "cell_type": "code",
      "metadata": {
        "id": "BtQquOXrhqFk"
      },
      "source": [
        ""
      ],
      "execution_count": null,
      "outputs": []
    }
  ]
}