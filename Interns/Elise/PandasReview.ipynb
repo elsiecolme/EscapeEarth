{
  "nbformat": 4,
  "nbformat_minor": 0,
  "metadata": {
    "kernelspec": {
      "display_name": "Python 3",
      "language": "python",
      "name": "python3"
    },
    "language_info": {
      "codemirror_mode": {
        "name": "ipython",
        "version": 3
      },
      "file_extension": ".py",
      "mimetype": "text/x-python",
      "name": "python",
      "nbconvert_exporter": "python",
      "pygments_lexer": "ipython3",
      "version": "3.7.6"
    },
    "colab": {
      "name": "PandasReview.ipynb",
      "provenance": [],
      "include_colab_link": true
    }
  },
  "cells": [
    {
      "cell_type": "markdown",
      "metadata": {
        "id": "view-in-github",
        "colab_type": "text"
      },
      "source": [
        "<a href=\"https://colab.research.google.com/github/liscolme/EscapeEarth/blob/main/Interns/Elise/PandasReview.ipynb\" target=\"_parent\"><img src=\"https://colab.research.google.com/assets/colab-badge.svg\" alt=\"Open In Colab\"/></a>"
      ]
    },
    {
      "cell_type": "code",
      "metadata": {
        "id": "zdTCwZb3hHpW"
      },
      "source": [
        "#NOTE: you do NOT need to mount your google drive\n",
        "\n",
        "#standard imports\n",
        "%matplotlib inline\n",
        "import pandas as pd\n",
        "import numpy as np\n",
        "import matplotlib.pyplot as plt"
      ],
      "execution_count": null,
      "outputs": []
    },
    {
      "cell_type": "code",
      "metadata": {
        "colab": {
          "base_uri": "https://localhost:8080/",
          "height": 347
        },
        "id": "uvpBAE_OhHpc",
        "outputId": "6e5b8b90-f02d-4e54-a48b-8162e00c76b0"
      },
      "source": [
        "# create one dataframe to work with\n",
        "\n",
        "#random seed so all our numbers are the same\n",
        "np.random.seed(seed = 11)\n",
        "#create fake data\n",
        "ids = np.random.randint(1000, 2000, 10)\n",
        "signal_strength = np.random.randint(0, 100, 10)\n",
        "orbital_periods = np.random.randint(.3,15,10)\n",
        "#put fake data into a dictionary\n",
        "data_dictionary = {'ID':ids, 'Power':signal_strength, 'Period':orbital_periods}\n",
        "#put data dictionary into a dataframe\n",
        "df_1 = pd.DataFrame(data_dictionary)\n",
        "df_1"
      ],
      "execution_count": null,
      "outputs": [
        {
          "output_type": "execute_result",
          "data": {
            "text/html": [
              "<div>\n",
              "<style scoped>\n",
              "    .dataframe tbody tr th:only-of-type {\n",
              "        vertical-align: middle;\n",
              "    }\n",
              "\n",
              "    .dataframe tbody tr th {\n",
              "        vertical-align: top;\n",
              "    }\n",
              "\n",
              "    .dataframe thead th {\n",
              "        text-align: right;\n",
              "    }\n",
              "</style>\n",
              "<table border=\"1\" class=\"dataframe\">\n",
              "  <thead>\n",
              "    <tr style=\"text-align: right;\">\n",
              "      <th></th>\n",
              "      <th>ID</th>\n",
              "      <th>Power</th>\n",
              "      <th>Period</th>\n",
              "    </tr>\n",
              "  </thead>\n",
              "  <tbody>\n",
              "    <tr>\n",
              "      <th>0</th>\n",
              "      <td>1921</td>\n",
              "      <td>82</td>\n",
              "      <td>10</td>\n",
              "    </tr>\n",
              "    <tr>\n",
              "      <th>1</th>\n",
              "      <td>1703</td>\n",
              "      <td>24</td>\n",
              "      <td>5</td>\n",
              "    </tr>\n",
              "    <tr>\n",
              "      <th>2</th>\n",
              "      <td>1080</td>\n",
              "      <td>92</td>\n",
              "      <td>5</td>\n",
              "    </tr>\n",
              "    <tr>\n",
              "      <th>3</th>\n",
              "      <td>1091</td>\n",
              "      <td>48</td>\n",
              "      <td>7</td>\n",
              "    </tr>\n",
              "    <tr>\n",
              "      <th>4</th>\n",
              "      <td>1337</td>\n",
              "      <td>32</td>\n",
              "      <td>4</td>\n",
              "    </tr>\n",
              "    <tr>\n",
              "      <th>5</th>\n",
              "      <td>1951</td>\n",
              "      <td>45</td>\n",
              "      <td>1</td>\n",
              "    </tr>\n",
              "    <tr>\n",
              "      <th>6</th>\n",
              "      <td>1269</td>\n",
              "      <td>4</td>\n",
              "      <td>11</td>\n",
              "    </tr>\n",
              "    <tr>\n",
              "      <th>7</th>\n",
              "      <td>1332</td>\n",
              "      <td>34</td>\n",
              "      <td>8</td>\n",
              "    </tr>\n",
              "    <tr>\n",
              "      <th>8</th>\n",
              "      <td>1673</td>\n",
              "      <td>12</td>\n",
              "      <td>8</td>\n",
              "    </tr>\n",
              "    <tr>\n",
              "      <th>9</th>\n",
              "      <td>1583</td>\n",
              "      <td>1</td>\n",
              "      <td>1</td>\n",
              "    </tr>\n",
              "  </tbody>\n",
              "</table>\n",
              "</div>"
            ],
            "text/plain": [
              "     ID  Power  Period\n",
              "0  1921     82      10\n",
              "1  1703     24       5\n",
              "2  1080     92       5\n",
              "3  1091     48       7\n",
              "4  1337     32       4\n",
              "5  1951     45       1\n",
              "6  1269      4      11\n",
              "7  1332     34       8\n",
              "8  1673     12       8\n",
              "9  1583      1       1"
            ]
          },
          "metadata": {
            "tags": []
          },
          "execution_count": 2
        }
      ]
    },
    {
      "cell_type": "code",
      "metadata": {
        "colab": {
          "base_uri": "https://localhost:8080/",
          "height": 347
        },
        "id": "9-HGFE8yhHpd",
        "outputId": "310dd40b-7dd8-4847-d00e-59c7cfa07909"
      },
      "source": [
        "# create a second dataframe\n",
        "\n",
        "#random seed so all our numbers are the same\n",
        "np.random.seed(seed = 22)\n",
        "#create fake data\n",
        "ids_2 = np.random.randint(1000, 2000, 10)\n",
        "signal_strength_2 = np.random.randint(0, 100, 10)\n",
        "orbital_periods_2 = np.random.randint(.3,15,10)\n",
        "#put fake data into a dictionary\n",
        "data_dictionary_2 = {'ID':ids_2, 'Power':signal_strength_2, 'Period':orbital_periods_2}\n",
        "#put data dictionary into a dataframe\n",
        "df_2 = pd.DataFrame(data_dictionary_2)\n",
        "df_2"
      ],
      "execution_count": null,
      "outputs": [
        {
          "output_type": "execute_result",
          "data": {
            "text/html": [
              "<div>\n",
              "<style scoped>\n",
              "    .dataframe tbody tr th:only-of-type {\n",
              "        vertical-align: middle;\n",
              "    }\n",
              "\n",
              "    .dataframe tbody tr th {\n",
              "        vertical-align: top;\n",
              "    }\n",
              "\n",
              "    .dataframe thead th {\n",
              "        text-align: right;\n",
              "    }\n",
              "</style>\n",
              "<table border=\"1\" class=\"dataframe\">\n",
              "  <thead>\n",
              "    <tr style=\"text-align: right;\">\n",
              "      <th></th>\n",
              "      <th>ID</th>\n",
              "      <th>Power</th>\n",
              "      <th>Period</th>\n",
              "    </tr>\n",
              "  </thead>\n",
              "  <tbody>\n",
              "    <tr>\n",
              "      <th>0</th>\n",
              "      <td>1885</td>\n",
              "      <td>95</td>\n",
              "      <td>8</td>\n",
              "    </tr>\n",
              "    <tr>\n",
              "      <th>1</th>\n",
              "      <td>1132</td>\n",
              "      <td>93</td>\n",
              "      <td>8</td>\n",
              "    </tr>\n",
              "    <tr>\n",
              "      <th>2</th>\n",
              "      <td>1812</td>\n",
              "      <td>18</td>\n",
              "      <td>5</td>\n",
              "    </tr>\n",
              "    <tr>\n",
              "      <th>3</th>\n",
              "      <td>1960</td>\n",
              "      <td>14</td>\n",
              "      <td>11</td>\n",
              "    </tr>\n",
              "    <tr>\n",
              "      <th>4</th>\n",
              "      <td>1356</td>\n",
              "      <td>45</td>\n",
              "      <td>4</td>\n",
              "    </tr>\n",
              "    <tr>\n",
              "      <th>5</th>\n",
              "      <td>1358</td>\n",
              "      <td>88</td>\n",
              "      <td>2</td>\n",
              "    </tr>\n",
              "    <tr>\n",
              "      <th>6</th>\n",
              "      <td>1502</td>\n",
              "      <td>93</td>\n",
              "      <td>13</td>\n",
              "    </tr>\n",
              "    <tr>\n",
              "      <th>7</th>\n",
              "      <td>1491</td>\n",
              "      <td>39</td>\n",
              "      <td>2</td>\n",
              "    </tr>\n",
              "    <tr>\n",
              "      <th>8</th>\n",
              "      <td>1596</td>\n",
              "      <td>34</td>\n",
              "      <td>1</td>\n",
              "    </tr>\n",
              "    <tr>\n",
              "      <th>9</th>\n",
              "      <td>1904</td>\n",
              "      <td>41</td>\n",
              "      <td>6</td>\n",
              "    </tr>\n",
              "  </tbody>\n",
              "</table>\n",
              "</div>"
            ],
            "text/plain": [
              "     ID  Power  Period\n",
              "0  1885     95       8\n",
              "1  1132     93       8\n",
              "2  1812     18       5\n",
              "3  1960     14      11\n",
              "4  1356     45       4\n",
              "5  1358     88       2\n",
              "6  1502     93      13\n",
              "7  1491     39       2\n",
              "8  1596     34       1\n",
              "9  1904     41       6"
            ]
          },
          "metadata": {
            "tags": []
          },
          "execution_count": 3
        }
      ]
    },
    {
      "cell_type": "markdown",
      "metadata": {
        "id": "N3xlaDcOhHpd"
      },
      "source": [
        "# Add a column"
      ]
    },
    {
      "cell_type": "code",
      "metadata": {
        "colab": {
          "base_uri": "https://localhost:8080/",
          "height": 347
        },
        "id": "VBgWJCFrhHpe",
        "outputId": "2e16bb2c-fac8-419f-e2a8-75592b6b88e1"
      },
      "source": [
        "#first we want to know which rows came from which dataframe \n",
        "#(b/c each dataframe is from a different sector)\n",
        "# so we need to add a column for sector\n",
        "\n",
        "# make an array of sector values that is the same length as the df we'll add to \n",
        "col_for_df_1 = np.repeat(14, len(df_1))\n",
        "# now add that array to df_1\n",
        "df_1['Sector'] = col_for_df_1\n",
        "# see the changes\n",
        "df_1"
      ],
      "execution_count": null,
      "outputs": [
        {
          "output_type": "execute_result",
          "data": {
            "text/html": [
              "<div>\n",
              "<style scoped>\n",
              "    .dataframe tbody tr th:only-of-type {\n",
              "        vertical-align: middle;\n",
              "    }\n",
              "\n",
              "    .dataframe tbody tr th {\n",
              "        vertical-align: top;\n",
              "    }\n",
              "\n",
              "    .dataframe thead th {\n",
              "        text-align: right;\n",
              "    }\n",
              "</style>\n",
              "<table border=\"1\" class=\"dataframe\">\n",
              "  <thead>\n",
              "    <tr style=\"text-align: right;\">\n",
              "      <th></th>\n",
              "      <th>ID</th>\n",
              "      <th>Power</th>\n",
              "      <th>Period</th>\n",
              "      <th>Sector</th>\n",
              "    </tr>\n",
              "  </thead>\n",
              "  <tbody>\n",
              "    <tr>\n",
              "      <th>0</th>\n",
              "      <td>1921</td>\n",
              "      <td>82</td>\n",
              "      <td>10</td>\n",
              "      <td>14</td>\n",
              "    </tr>\n",
              "    <tr>\n",
              "      <th>1</th>\n",
              "      <td>1703</td>\n",
              "      <td>24</td>\n",
              "      <td>5</td>\n",
              "      <td>14</td>\n",
              "    </tr>\n",
              "    <tr>\n",
              "      <th>2</th>\n",
              "      <td>1080</td>\n",
              "      <td>92</td>\n",
              "      <td>5</td>\n",
              "      <td>14</td>\n",
              "    </tr>\n",
              "    <tr>\n",
              "      <th>3</th>\n",
              "      <td>1091</td>\n",
              "      <td>48</td>\n",
              "      <td>7</td>\n",
              "      <td>14</td>\n",
              "    </tr>\n",
              "    <tr>\n",
              "      <th>4</th>\n",
              "      <td>1337</td>\n",
              "      <td>32</td>\n",
              "      <td>4</td>\n",
              "      <td>14</td>\n",
              "    </tr>\n",
              "    <tr>\n",
              "      <th>5</th>\n",
              "      <td>1951</td>\n",
              "      <td>45</td>\n",
              "      <td>1</td>\n",
              "      <td>14</td>\n",
              "    </tr>\n",
              "    <tr>\n",
              "      <th>6</th>\n",
              "      <td>1269</td>\n",
              "      <td>4</td>\n",
              "      <td>11</td>\n",
              "      <td>14</td>\n",
              "    </tr>\n",
              "    <tr>\n",
              "      <th>7</th>\n",
              "      <td>1332</td>\n",
              "      <td>34</td>\n",
              "      <td>8</td>\n",
              "      <td>14</td>\n",
              "    </tr>\n",
              "    <tr>\n",
              "      <th>8</th>\n",
              "      <td>1673</td>\n",
              "      <td>12</td>\n",
              "      <td>8</td>\n",
              "      <td>14</td>\n",
              "    </tr>\n",
              "    <tr>\n",
              "      <th>9</th>\n",
              "      <td>1583</td>\n",
              "      <td>1</td>\n",
              "      <td>1</td>\n",
              "      <td>14</td>\n",
              "    </tr>\n",
              "  </tbody>\n",
              "</table>\n",
              "</div>"
            ],
            "text/plain": [
              "     ID  Power  Period  Sector\n",
              "0  1921     82      10      14\n",
              "1  1703     24       5      14\n",
              "2  1080     92       5      14\n",
              "3  1091     48       7      14\n",
              "4  1337     32       4      14\n",
              "5  1951     45       1      14\n",
              "6  1269      4      11      14\n",
              "7  1332     34       8      14\n",
              "8  1673     12       8      14\n",
              "9  1583      1       1      14"
            ]
          },
          "metadata": {
            "tags": []
          },
          "execution_count": 4
        }
      ]
    },
    {
      "cell_type": "code",
      "metadata": {
        "colab": {
          "base_uri": "https://localhost:8080/",
          "height": 347
        },
        "id": "y-Q240y0hHpe",
        "outputId": "19058d00-d769-4184-d5be-80248e996c82"
      },
      "source": [
        "# do the same for df_2\n",
        "\n",
        "col_for_df_2 = np.repeat(15, len(df_2))\n",
        "df_2['Sector'] = col_for_df_2\n",
        "df_2"
      ],
      "execution_count": null,
      "outputs": [
        {
          "output_type": "execute_result",
          "data": {
            "text/html": [
              "<div>\n",
              "<style scoped>\n",
              "    .dataframe tbody tr th:only-of-type {\n",
              "        vertical-align: middle;\n",
              "    }\n",
              "\n",
              "    .dataframe tbody tr th {\n",
              "        vertical-align: top;\n",
              "    }\n",
              "\n",
              "    .dataframe thead th {\n",
              "        text-align: right;\n",
              "    }\n",
              "</style>\n",
              "<table border=\"1\" class=\"dataframe\">\n",
              "  <thead>\n",
              "    <tr style=\"text-align: right;\">\n",
              "      <th></th>\n",
              "      <th>ID</th>\n",
              "      <th>Power</th>\n",
              "      <th>Period</th>\n",
              "      <th>Sector</th>\n",
              "    </tr>\n",
              "  </thead>\n",
              "  <tbody>\n",
              "    <tr>\n",
              "      <th>0</th>\n",
              "      <td>1885</td>\n",
              "      <td>95</td>\n",
              "      <td>8</td>\n",
              "      <td>15</td>\n",
              "    </tr>\n",
              "    <tr>\n",
              "      <th>1</th>\n",
              "      <td>1132</td>\n",
              "      <td>93</td>\n",
              "      <td>8</td>\n",
              "      <td>15</td>\n",
              "    </tr>\n",
              "    <tr>\n",
              "      <th>2</th>\n",
              "      <td>1812</td>\n",
              "      <td>18</td>\n",
              "      <td>5</td>\n",
              "      <td>15</td>\n",
              "    </tr>\n",
              "    <tr>\n",
              "      <th>3</th>\n",
              "      <td>1960</td>\n",
              "      <td>14</td>\n",
              "      <td>11</td>\n",
              "      <td>15</td>\n",
              "    </tr>\n",
              "    <tr>\n",
              "      <th>4</th>\n",
              "      <td>1356</td>\n",
              "      <td>45</td>\n",
              "      <td>4</td>\n",
              "      <td>15</td>\n",
              "    </tr>\n",
              "    <tr>\n",
              "      <th>5</th>\n",
              "      <td>1358</td>\n",
              "      <td>88</td>\n",
              "      <td>2</td>\n",
              "      <td>15</td>\n",
              "    </tr>\n",
              "    <tr>\n",
              "      <th>6</th>\n",
              "      <td>1502</td>\n",
              "      <td>93</td>\n",
              "      <td>13</td>\n",
              "      <td>15</td>\n",
              "    </tr>\n",
              "    <tr>\n",
              "      <th>7</th>\n",
              "      <td>1491</td>\n",
              "      <td>39</td>\n",
              "      <td>2</td>\n",
              "      <td>15</td>\n",
              "    </tr>\n",
              "    <tr>\n",
              "      <th>8</th>\n",
              "      <td>1596</td>\n",
              "      <td>34</td>\n",
              "      <td>1</td>\n",
              "      <td>15</td>\n",
              "    </tr>\n",
              "    <tr>\n",
              "      <th>9</th>\n",
              "      <td>1904</td>\n",
              "      <td>41</td>\n",
              "      <td>6</td>\n",
              "      <td>15</td>\n",
              "    </tr>\n",
              "  </tbody>\n",
              "</table>\n",
              "</div>"
            ],
            "text/plain": [
              "     ID  Power  Period  Sector\n",
              "0  1885     95       8      15\n",
              "1  1132     93       8      15\n",
              "2  1812     18       5      15\n",
              "3  1960     14      11      15\n",
              "4  1356     45       4      15\n",
              "5  1358     88       2      15\n",
              "6  1502     93      13      15\n",
              "7  1491     39       2      15\n",
              "8  1596     34       1      15\n",
              "9  1904     41       6      15"
            ]
          },
          "metadata": {
            "tags": []
          },
          "execution_count": 5
        }
      ]
    },
    {
      "cell_type": "markdown",
      "metadata": {
        "id": "i_mTjXexhHpe"
      },
      "source": [
        "# Combine dataframes into one df"
      ]
    },
    {
      "cell_type": "code",
      "metadata": {
        "colab": {
          "base_uri": "https://localhost:8080/",
          "height": 718
        },
        "id": "WWl3MbhThHpf",
        "outputId": "7152ab44-be15-4e5b-ba35-d12c6041742e"
      },
      "source": [
        "# decide between merge, append, and different \"join\" types available --depends on desired outcome\n",
        "# since the rows in each df are _truly unique_ we want to simply append them\n",
        "# if they had matching target data between the two dfs we would want to do something different\n",
        "\n",
        "#sanity check using lenghts of dfs\n",
        "print('Length of df-1: {} \\nLength of df-2: {}'.format(len(df_1), len(df_2)))\n",
        "print('Expected total length: {}'.format( len(df_1) + len(df_2) ))\n",
        "#does the appending --check that lenght of main_df matches expected total length\n",
        "main_df = df_1.append(df_2)\n",
        "print('Actual total lenght: {}'.format(len(main_df)))\n",
        "main_df"
      ],
      "execution_count": null,
      "outputs": [
        {
          "output_type": "stream",
          "text": [
            "Length of df-1: 10 \n",
            "Length of df-2: 10\n",
            "Expected total length: 20\n",
            "Actual total lenght: 20\n"
          ],
          "name": "stdout"
        },
        {
          "output_type": "execute_result",
          "data": {
            "text/html": [
              "<div>\n",
              "<style scoped>\n",
              "    .dataframe tbody tr th:only-of-type {\n",
              "        vertical-align: middle;\n",
              "    }\n",
              "\n",
              "    .dataframe tbody tr th {\n",
              "        vertical-align: top;\n",
              "    }\n",
              "\n",
              "    .dataframe thead th {\n",
              "        text-align: right;\n",
              "    }\n",
              "</style>\n",
              "<table border=\"1\" class=\"dataframe\">\n",
              "  <thead>\n",
              "    <tr style=\"text-align: right;\">\n",
              "      <th></th>\n",
              "      <th>ID</th>\n",
              "      <th>Power</th>\n",
              "      <th>Period</th>\n",
              "      <th>Sector</th>\n",
              "    </tr>\n",
              "  </thead>\n",
              "  <tbody>\n",
              "    <tr>\n",
              "      <th>0</th>\n",
              "      <td>1921</td>\n",
              "      <td>82</td>\n",
              "      <td>10</td>\n",
              "      <td>14</td>\n",
              "    </tr>\n",
              "    <tr>\n",
              "      <th>1</th>\n",
              "      <td>1703</td>\n",
              "      <td>24</td>\n",
              "      <td>5</td>\n",
              "      <td>14</td>\n",
              "    </tr>\n",
              "    <tr>\n",
              "      <th>2</th>\n",
              "      <td>1080</td>\n",
              "      <td>92</td>\n",
              "      <td>5</td>\n",
              "      <td>14</td>\n",
              "    </tr>\n",
              "    <tr>\n",
              "      <th>3</th>\n",
              "      <td>1091</td>\n",
              "      <td>48</td>\n",
              "      <td>7</td>\n",
              "      <td>14</td>\n",
              "    </tr>\n",
              "    <tr>\n",
              "      <th>4</th>\n",
              "      <td>1337</td>\n",
              "      <td>32</td>\n",
              "      <td>4</td>\n",
              "      <td>14</td>\n",
              "    </tr>\n",
              "    <tr>\n",
              "      <th>5</th>\n",
              "      <td>1951</td>\n",
              "      <td>45</td>\n",
              "      <td>1</td>\n",
              "      <td>14</td>\n",
              "    </tr>\n",
              "    <tr>\n",
              "      <th>6</th>\n",
              "      <td>1269</td>\n",
              "      <td>4</td>\n",
              "      <td>11</td>\n",
              "      <td>14</td>\n",
              "    </tr>\n",
              "    <tr>\n",
              "      <th>7</th>\n",
              "      <td>1332</td>\n",
              "      <td>34</td>\n",
              "      <td>8</td>\n",
              "      <td>14</td>\n",
              "    </tr>\n",
              "    <tr>\n",
              "      <th>8</th>\n",
              "      <td>1673</td>\n",
              "      <td>12</td>\n",
              "      <td>8</td>\n",
              "      <td>14</td>\n",
              "    </tr>\n",
              "    <tr>\n",
              "      <th>9</th>\n",
              "      <td>1583</td>\n",
              "      <td>1</td>\n",
              "      <td>1</td>\n",
              "      <td>14</td>\n",
              "    </tr>\n",
              "    <tr>\n",
              "      <th>0</th>\n",
              "      <td>1885</td>\n",
              "      <td>95</td>\n",
              "      <td>8</td>\n",
              "      <td>15</td>\n",
              "    </tr>\n",
              "    <tr>\n",
              "      <th>1</th>\n",
              "      <td>1132</td>\n",
              "      <td>93</td>\n",
              "      <td>8</td>\n",
              "      <td>15</td>\n",
              "    </tr>\n",
              "    <tr>\n",
              "      <th>2</th>\n",
              "      <td>1812</td>\n",
              "      <td>18</td>\n",
              "      <td>5</td>\n",
              "      <td>15</td>\n",
              "    </tr>\n",
              "    <tr>\n",
              "      <th>3</th>\n",
              "      <td>1960</td>\n",
              "      <td>14</td>\n",
              "      <td>11</td>\n",
              "      <td>15</td>\n",
              "    </tr>\n",
              "    <tr>\n",
              "      <th>4</th>\n",
              "      <td>1356</td>\n",
              "      <td>45</td>\n",
              "      <td>4</td>\n",
              "      <td>15</td>\n",
              "    </tr>\n",
              "    <tr>\n",
              "      <th>5</th>\n",
              "      <td>1358</td>\n",
              "      <td>88</td>\n",
              "      <td>2</td>\n",
              "      <td>15</td>\n",
              "    </tr>\n",
              "    <tr>\n",
              "      <th>6</th>\n",
              "      <td>1502</td>\n",
              "      <td>93</td>\n",
              "      <td>13</td>\n",
              "      <td>15</td>\n",
              "    </tr>\n",
              "    <tr>\n",
              "      <th>7</th>\n",
              "      <td>1491</td>\n",
              "      <td>39</td>\n",
              "      <td>2</td>\n",
              "      <td>15</td>\n",
              "    </tr>\n",
              "    <tr>\n",
              "      <th>8</th>\n",
              "      <td>1596</td>\n",
              "      <td>34</td>\n",
              "      <td>1</td>\n",
              "      <td>15</td>\n",
              "    </tr>\n",
              "    <tr>\n",
              "      <th>9</th>\n",
              "      <td>1904</td>\n",
              "      <td>41</td>\n",
              "      <td>6</td>\n",
              "      <td>15</td>\n",
              "    </tr>\n",
              "  </tbody>\n",
              "</table>\n",
              "</div>"
            ],
            "text/plain": [
              "     ID  Power  Period  Sector\n",
              "0  1921     82      10      14\n",
              "1  1703     24       5      14\n",
              "2  1080     92       5      14\n",
              "3  1091     48       7      14\n",
              "4  1337     32       4      14\n",
              "5  1951     45       1      14\n",
              "6  1269      4      11      14\n",
              "7  1332     34       8      14\n",
              "8  1673     12       8      14\n",
              "9  1583      1       1      14\n",
              "0  1885     95       8      15\n",
              "1  1132     93       8      15\n",
              "2  1812     18       5      15\n",
              "3  1960     14      11      15\n",
              "4  1356     45       4      15\n",
              "5  1358     88       2      15\n",
              "6  1502     93      13      15\n",
              "7  1491     39       2      15\n",
              "8  1596     34       1      15\n",
              "9  1904     41       6      15"
            ]
          },
          "metadata": {
            "tags": []
          },
          "execution_count": 6
        }
      ]
    },
    {
      "cell_type": "code",
      "metadata": {
        "colab": {
          "base_uri": "https://localhost:8080/",
          "height": 647
        },
        "id": "JePr-aK_hHpf",
        "outputId": "5d18e585-e71c-496c-d5ad-46e8b5553085"
      },
      "source": [
        "#notice the index column on the main_df is repetitive, let's fix that\n",
        "\n",
        "#reset order of df index column \n",
        "main_df = main_df.reset_index()\n",
        "main_df"
      ],
      "execution_count": null,
      "outputs": [
        {
          "output_type": "execute_result",
          "data": {
            "text/html": [
              "<div>\n",
              "<style scoped>\n",
              "    .dataframe tbody tr th:only-of-type {\n",
              "        vertical-align: middle;\n",
              "    }\n",
              "\n",
              "    .dataframe tbody tr th {\n",
              "        vertical-align: top;\n",
              "    }\n",
              "\n",
              "    .dataframe thead th {\n",
              "        text-align: right;\n",
              "    }\n",
              "</style>\n",
              "<table border=\"1\" class=\"dataframe\">\n",
              "  <thead>\n",
              "    <tr style=\"text-align: right;\">\n",
              "      <th></th>\n",
              "      <th>index</th>\n",
              "      <th>ID</th>\n",
              "      <th>Power</th>\n",
              "      <th>Period</th>\n",
              "      <th>Sector</th>\n",
              "    </tr>\n",
              "  </thead>\n",
              "  <tbody>\n",
              "    <tr>\n",
              "      <th>0</th>\n",
              "      <td>0</td>\n",
              "      <td>1921</td>\n",
              "      <td>82</td>\n",
              "      <td>10</td>\n",
              "      <td>14</td>\n",
              "    </tr>\n",
              "    <tr>\n",
              "      <th>1</th>\n",
              "      <td>1</td>\n",
              "      <td>1703</td>\n",
              "      <td>24</td>\n",
              "      <td>5</td>\n",
              "      <td>14</td>\n",
              "    </tr>\n",
              "    <tr>\n",
              "      <th>2</th>\n",
              "      <td>2</td>\n",
              "      <td>1080</td>\n",
              "      <td>92</td>\n",
              "      <td>5</td>\n",
              "      <td>14</td>\n",
              "    </tr>\n",
              "    <tr>\n",
              "      <th>3</th>\n",
              "      <td>3</td>\n",
              "      <td>1091</td>\n",
              "      <td>48</td>\n",
              "      <td>7</td>\n",
              "      <td>14</td>\n",
              "    </tr>\n",
              "    <tr>\n",
              "      <th>4</th>\n",
              "      <td>4</td>\n",
              "      <td>1337</td>\n",
              "      <td>32</td>\n",
              "      <td>4</td>\n",
              "      <td>14</td>\n",
              "    </tr>\n",
              "    <tr>\n",
              "      <th>5</th>\n",
              "      <td>5</td>\n",
              "      <td>1951</td>\n",
              "      <td>45</td>\n",
              "      <td>1</td>\n",
              "      <td>14</td>\n",
              "    </tr>\n",
              "    <tr>\n",
              "      <th>6</th>\n",
              "      <td>6</td>\n",
              "      <td>1269</td>\n",
              "      <td>4</td>\n",
              "      <td>11</td>\n",
              "      <td>14</td>\n",
              "    </tr>\n",
              "    <tr>\n",
              "      <th>7</th>\n",
              "      <td>7</td>\n",
              "      <td>1332</td>\n",
              "      <td>34</td>\n",
              "      <td>8</td>\n",
              "      <td>14</td>\n",
              "    </tr>\n",
              "    <tr>\n",
              "      <th>8</th>\n",
              "      <td>8</td>\n",
              "      <td>1673</td>\n",
              "      <td>12</td>\n",
              "      <td>8</td>\n",
              "      <td>14</td>\n",
              "    </tr>\n",
              "    <tr>\n",
              "      <th>9</th>\n",
              "      <td>9</td>\n",
              "      <td>1583</td>\n",
              "      <td>1</td>\n",
              "      <td>1</td>\n",
              "      <td>14</td>\n",
              "    </tr>\n",
              "    <tr>\n",
              "      <th>10</th>\n",
              "      <td>0</td>\n",
              "      <td>1885</td>\n",
              "      <td>95</td>\n",
              "      <td>8</td>\n",
              "      <td>15</td>\n",
              "    </tr>\n",
              "    <tr>\n",
              "      <th>11</th>\n",
              "      <td>1</td>\n",
              "      <td>1132</td>\n",
              "      <td>93</td>\n",
              "      <td>8</td>\n",
              "      <td>15</td>\n",
              "    </tr>\n",
              "    <tr>\n",
              "      <th>12</th>\n",
              "      <td>2</td>\n",
              "      <td>1812</td>\n",
              "      <td>18</td>\n",
              "      <td>5</td>\n",
              "      <td>15</td>\n",
              "    </tr>\n",
              "    <tr>\n",
              "      <th>13</th>\n",
              "      <td>3</td>\n",
              "      <td>1960</td>\n",
              "      <td>14</td>\n",
              "      <td>11</td>\n",
              "      <td>15</td>\n",
              "    </tr>\n",
              "    <tr>\n",
              "      <th>14</th>\n",
              "      <td>4</td>\n",
              "      <td>1356</td>\n",
              "      <td>45</td>\n",
              "      <td>4</td>\n",
              "      <td>15</td>\n",
              "    </tr>\n",
              "    <tr>\n",
              "      <th>15</th>\n",
              "      <td>5</td>\n",
              "      <td>1358</td>\n",
              "      <td>88</td>\n",
              "      <td>2</td>\n",
              "      <td>15</td>\n",
              "    </tr>\n",
              "    <tr>\n",
              "      <th>16</th>\n",
              "      <td>6</td>\n",
              "      <td>1502</td>\n",
              "      <td>93</td>\n",
              "      <td>13</td>\n",
              "      <td>15</td>\n",
              "    </tr>\n",
              "    <tr>\n",
              "      <th>17</th>\n",
              "      <td>7</td>\n",
              "      <td>1491</td>\n",
              "      <td>39</td>\n",
              "      <td>2</td>\n",
              "      <td>15</td>\n",
              "    </tr>\n",
              "    <tr>\n",
              "      <th>18</th>\n",
              "      <td>8</td>\n",
              "      <td>1596</td>\n",
              "      <td>34</td>\n",
              "      <td>1</td>\n",
              "      <td>15</td>\n",
              "    </tr>\n",
              "    <tr>\n",
              "      <th>19</th>\n",
              "      <td>9</td>\n",
              "      <td>1904</td>\n",
              "      <td>41</td>\n",
              "      <td>6</td>\n",
              "      <td>15</td>\n",
              "    </tr>\n",
              "  </tbody>\n",
              "</table>\n",
              "</div>"
            ],
            "text/plain": [
              "    index    ID  Power  Period  Sector\n",
              "0       0  1921     82      10      14\n",
              "1       1  1703     24       5      14\n",
              "2       2  1080     92       5      14\n",
              "3       3  1091     48       7      14\n",
              "4       4  1337     32       4      14\n",
              "5       5  1951     45       1      14\n",
              "6       6  1269      4      11      14\n",
              "7       7  1332     34       8      14\n",
              "8       8  1673     12       8      14\n",
              "9       9  1583      1       1      14\n",
              "10      0  1885     95       8      15\n",
              "11      1  1132     93       8      15\n",
              "12      2  1812     18       5      15\n",
              "13      3  1960     14      11      15\n",
              "14      4  1356     45       4      15\n",
              "15      5  1358     88       2      15\n",
              "16      6  1502     93      13      15\n",
              "17      7  1491     39       2      15\n",
              "18      8  1596     34       1      15\n",
              "19      9  1904     41       6      15"
            ]
          },
          "metadata": {
            "tags": []
          },
          "execution_count": 7
        }
      ]
    },
    {
      "cell_type": "markdown",
      "metadata": {
        "id": "aqYBtNnjhHpf"
      },
      "source": [
        "# Drop a column "
      ]
    },
    {
      "cell_type": "code",
      "metadata": {
        "colab": {
          "base_uri": "https://localhost:8080/",
          "height": 647
        },
        "id": "BtTdB_EZhHpg",
        "outputId": "cfd1eaf2-b48b-4d70-8d86-af904c03c74e"
      },
      "source": [
        "#oops the old indices were added as a new column, let's drop that column\n",
        "\n",
        "#drop index column\n",
        "main_df = main_df.drop(columns=['index'])\n",
        "main_df"
      ],
      "execution_count": null,
      "outputs": [
        {
          "output_type": "execute_result",
          "data": {
            "text/html": [
              "<div>\n",
              "<style scoped>\n",
              "    .dataframe tbody tr th:only-of-type {\n",
              "        vertical-align: middle;\n",
              "    }\n",
              "\n",
              "    .dataframe tbody tr th {\n",
              "        vertical-align: top;\n",
              "    }\n",
              "\n",
              "    .dataframe thead th {\n",
              "        text-align: right;\n",
              "    }\n",
              "</style>\n",
              "<table border=\"1\" class=\"dataframe\">\n",
              "  <thead>\n",
              "    <tr style=\"text-align: right;\">\n",
              "      <th></th>\n",
              "      <th>ID</th>\n",
              "      <th>Power</th>\n",
              "      <th>Period</th>\n",
              "      <th>Sector</th>\n",
              "    </tr>\n",
              "  </thead>\n",
              "  <tbody>\n",
              "    <tr>\n",
              "      <th>0</th>\n",
              "      <td>1921</td>\n",
              "      <td>82</td>\n",
              "      <td>10</td>\n",
              "      <td>14</td>\n",
              "    </tr>\n",
              "    <tr>\n",
              "      <th>1</th>\n",
              "      <td>1703</td>\n",
              "      <td>24</td>\n",
              "      <td>5</td>\n",
              "      <td>14</td>\n",
              "    </tr>\n",
              "    <tr>\n",
              "      <th>2</th>\n",
              "      <td>1080</td>\n",
              "      <td>92</td>\n",
              "      <td>5</td>\n",
              "      <td>14</td>\n",
              "    </tr>\n",
              "    <tr>\n",
              "      <th>3</th>\n",
              "      <td>1091</td>\n",
              "      <td>48</td>\n",
              "      <td>7</td>\n",
              "      <td>14</td>\n",
              "    </tr>\n",
              "    <tr>\n",
              "      <th>4</th>\n",
              "      <td>1337</td>\n",
              "      <td>32</td>\n",
              "      <td>4</td>\n",
              "      <td>14</td>\n",
              "    </tr>\n",
              "    <tr>\n",
              "      <th>5</th>\n",
              "      <td>1951</td>\n",
              "      <td>45</td>\n",
              "      <td>1</td>\n",
              "      <td>14</td>\n",
              "    </tr>\n",
              "    <tr>\n",
              "      <th>6</th>\n",
              "      <td>1269</td>\n",
              "      <td>4</td>\n",
              "      <td>11</td>\n",
              "      <td>14</td>\n",
              "    </tr>\n",
              "    <tr>\n",
              "      <th>7</th>\n",
              "      <td>1332</td>\n",
              "      <td>34</td>\n",
              "      <td>8</td>\n",
              "      <td>14</td>\n",
              "    </tr>\n",
              "    <tr>\n",
              "      <th>8</th>\n",
              "      <td>1673</td>\n",
              "      <td>12</td>\n",
              "      <td>8</td>\n",
              "      <td>14</td>\n",
              "    </tr>\n",
              "    <tr>\n",
              "      <th>9</th>\n",
              "      <td>1583</td>\n",
              "      <td>1</td>\n",
              "      <td>1</td>\n",
              "      <td>14</td>\n",
              "    </tr>\n",
              "    <tr>\n",
              "      <th>10</th>\n",
              "      <td>1885</td>\n",
              "      <td>95</td>\n",
              "      <td>8</td>\n",
              "      <td>15</td>\n",
              "    </tr>\n",
              "    <tr>\n",
              "      <th>11</th>\n",
              "      <td>1132</td>\n",
              "      <td>93</td>\n",
              "      <td>8</td>\n",
              "      <td>15</td>\n",
              "    </tr>\n",
              "    <tr>\n",
              "      <th>12</th>\n",
              "      <td>1812</td>\n",
              "      <td>18</td>\n",
              "      <td>5</td>\n",
              "      <td>15</td>\n",
              "    </tr>\n",
              "    <tr>\n",
              "      <th>13</th>\n",
              "      <td>1960</td>\n",
              "      <td>14</td>\n",
              "      <td>11</td>\n",
              "      <td>15</td>\n",
              "    </tr>\n",
              "    <tr>\n",
              "      <th>14</th>\n",
              "      <td>1356</td>\n",
              "      <td>45</td>\n",
              "      <td>4</td>\n",
              "      <td>15</td>\n",
              "    </tr>\n",
              "    <tr>\n",
              "      <th>15</th>\n",
              "      <td>1358</td>\n",
              "      <td>88</td>\n",
              "      <td>2</td>\n",
              "      <td>15</td>\n",
              "    </tr>\n",
              "    <tr>\n",
              "      <th>16</th>\n",
              "      <td>1502</td>\n",
              "      <td>93</td>\n",
              "      <td>13</td>\n",
              "      <td>15</td>\n",
              "    </tr>\n",
              "    <tr>\n",
              "      <th>17</th>\n",
              "      <td>1491</td>\n",
              "      <td>39</td>\n",
              "      <td>2</td>\n",
              "      <td>15</td>\n",
              "    </tr>\n",
              "    <tr>\n",
              "      <th>18</th>\n",
              "      <td>1596</td>\n",
              "      <td>34</td>\n",
              "      <td>1</td>\n",
              "      <td>15</td>\n",
              "    </tr>\n",
              "    <tr>\n",
              "      <th>19</th>\n",
              "      <td>1904</td>\n",
              "      <td>41</td>\n",
              "      <td>6</td>\n",
              "      <td>15</td>\n",
              "    </tr>\n",
              "  </tbody>\n",
              "</table>\n",
              "</div>"
            ],
            "text/plain": [
              "      ID  Power  Period  Sector\n",
              "0   1921     82      10      14\n",
              "1   1703     24       5      14\n",
              "2   1080     92       5      14\n",
              "3   1091     48       7      14\n",
              "4   1337     32       4      14\n",
              "5   1951     45       1      14\n",
              "6   1269      4      11      14\n",
              "7   1332     34       8      14\n",
              "8   1673     12       8      14\n",
              "9   1583      1       1      14\n",
              "10  1885     95       8      15\n",
              "11  1132     93       8      15\n",
              "12  1812     18       5      15\n",
              "13  1960     14      11      15\n",
              "14  1356     45       4      15\n",
              "15  1358     88       2      15\n",
              "16  1502     93      13      15\n",
              "17  1491     39       2      15\n",
              "18  1596     34       1      15\n",
              "19  1904     41       6      15"
            ]
          },
          "metadata": {
            "tags": []
          },
          "execution_count": 8
        }
      ]
    },
    {
      "cell_type": "code",
      "metadata": {
        "id": "HjAfOBnjhHpg"
      },
      "source": [
        "###HERE IS AN ALTERNATE WAY TO DO THE SAME THING AS THE ABOVE TWO CELLS###\n",
        "\n",
        "\n",
        "##this resets the df index column to be 0-length of dataframe\n",
        "#main_df = main_df.reset_index(drop=True)##drop=True is needed so that pandas doesn't make the old index into a new column\n",
        "#main_df"
      ],
      "execution_count": null,
      "outputs": []
    },
    {
      "cell_type": "markdown",
      "metadata": {
        "id": "Z2pmLshmhHpg"
      },
      "source": [
        "# Make subset using single threshold value"
      ]
    },
    {
      "cell_type": "code",
      "metadata": {
        "colab": {
          "base_uri": "https://localhost:8080/",
          "height": 245
        },
        "id": "ClBE__C1hHpg",
        "outputId": "210eb4db-1db2-40c1-8906-e4ec9a486ac5"
      },
      "source": [
        "# show only targets with 'Power' values equal to or above 50\n",
        "\n",
        "main_df_highpowers = main_df[ main_df['Power'] >= 50 ]\n",
        "print('Original length: {}, Length after threshold cut: {}'.format( len(main_df), len(main_df_highpowers)))\n",
        "main_df_highpowers"
      ],
      "execution_count": null,
      "outputs": [
        {
          "output_type": "stream",
          "text": [
            "Original length: 20, Length after threshold cut: 6\n"
          ],
          "name": "stdout"
        },
        {
          "output_type": "execute_result",
          "data": {
            "text/html": [
              "<div>\n",
              "<style scoped>\n",
              "    .dataframe tbody tr th:only-of-type {\n",
              "        vertical-align: middle;\n",
              "    }\n",
              "\n",
              "    .dataframe tbody tr th {\n",
              "        vertical-align: top;\n",
              "    }\n",
              "\n",
              "    .dataframe thead th {\n",
              "        text-align: right;\n",
              "    }\n",
              "</style>\n",
              "<table border=\"1\" class=\"dataframe\">\n",
              "  <thead>\n",
              "    <tr style=\"text-align: right;\">\n",
              "      <th></th>\n",
              "      <th>ID</th>\n",
              "      <th>Power</th>\n",
              "      <th>Period</th>\n",
              "      <th>Sector</th>\n",
              "    </tr>\n",
              "  </thead>\n",
              "  <tbody>\n",
              "    <tr>\n",
              "      <th>0</th>\n",
              "      <td>1921</td>\n",
              "      <td>82</td>\n",
              "      <td>10</td>\n",
              "      <td>14</td>\n",
              "    </tr>\n",
              "    <tr>\n",
              "      <th>2</th>\n",
              "      <td>1080</td>\n",
              "      <td>92</td>\n",
              "      <td>5</td>\n",
              "      <td>14</td>\n",
              "    </tr>\n",
              "    <tr>\n",
              "      <th>10</th>\n",
              "      <td>1885</td>\n",
              "      <td>95</td>\n",
              "      <td>8</td>\n",
              "      <td>15</td>\n",
              "    </tr>\n",
              "    <tr>\n",
              "      <th>11</th>\n",
              "      <td>1132</td>\n",
              "      <td>93</td>\n",
              "      <td>8</td>\n",
              "      <td>15</td>\n",
              "    </tr>\n",
              "    <tr>\n",
              "      <th>15</th>\n",
              "      <td>1358</td>\n",
              "      <td>88</td>\n",
              "      <td>2</td>\n",
              "      <td>15</td>\n",
              "    </tr>\n",
              "    <tr>\n",
              "      <th>16</th>\n",
              "      <td>1502</td>\n",
              "      <td>93</td>\n",
              "      <td>13</td>\n",
              "      <td>15</td>\n",
              "    </tr>\n",
              "  </tbody>\n",
              "</table>\n",
              "</div>"
            ],
            "text/plain": [
              "      ID  Power  Period  Sector\n",
              "0   1921     82      10      14\n",
              "2   1080     92       5      14\n",
              "10  1885     95       8      15\n",
              "11  1132     93       8      15\n",
              "15  1358     88       2      15\n",
              "16  1502     93      13      15"
            ]
          },
          "metadata": {
            "tags": []
          },
          "execution_count": 10
        }
      ]
    },
    {
      "cell_type": "markdown",
      "metadata": {
        "id": "7NKWnTk0hHph"
      },
      "source": [
        "# Make subset using multiple threshold values"
      ]
    },
    {
      "cell_type": "code",
      "metadata": {
        "colab": {
          "base_uri": "https://localhost:8080/",
          "height": 287
        },
        "id": "f9TAMebjhHph",
        "outputId": "4a975cb0-ab8c-4bb7-b1ed-243ae481f88d"
      },
      "source": [
        "# show only targets with 'Power' values above 40 AND 'Period' values less than 10\n",
        "\n",
        "#establish thresholds\n",
        "cut_1 = main_df['Power'] >40\n",
        "cut_2 = main_df['Period'] < 10\n",
        "#apply both thresholds to select targets within those limits\n",
        "main_df_after2cuts = main_df[ (cut_1) & (cut_2)]\n",
        "main_df_after2cuts "
      ],
      "execution_count": null,
      "outputs": [
        {
          "output_type": "execute_result",
          "data": {
            "text/html": [
              "<div>\n",
              "<style scoped>\n",
              "    .dataframe tbody tr th:only-of-type {\n",
              "        vertical-align: middle;\n",
              "    }\n",
              "\n",
              "    .dataframe tbody tr th {\n",
              "        vertical-align: top;\n",
              "    }\n",
              "\n",
              "    .dataframe thead th {\n",
              "        text-align: right;\n",
              "    }\n",
              "</style>\n",
              "<table border=\"1\" class=\"dataframe\">\n",
              "  <thead>\n",
              "    <tr style=\"text-align: right;\">\n",
              "      <th></th>\n",
              "      <th>ID</th>\n",
              "      <th>Power</th>\n",
              "      <th>Period</th>\n",
              "      <th>Sector</th>\n",
              "    </tr>\n",
              "  </thead>\n",
              "  <tbody>\n",
              "    <tr>\n",
              "      <th>2</th>\n",
              "      <td>1080</td>\n",
              "      <td>92</td>\n",
              "      <td>5</td>\n",
              "      <td>14</td>\n",
              "    </tr>\n",
              "    <tr>\n",
              "      <th>3</th>\n",
              "      <td>1091</td>\n",
              "      <td>48</td>\n",
              "      <td>7</td>\n",
              "      <td>14</td>\n",
              "    </tr>\n",
              "    <tr>\n",
              "      <th>5</th>\n",
              "      <td>1951</td>\n",
              "      <td>45</td>\n",
              "      <td>1</td>\n",
              "      <td>14</td>\n",
              "    </tr>\n",
              "    <tr>\n",
              "      <th>10</th>\n",
              "      <td>1885</td>\n",
              "      <td>95</td>\n",
              "      <td>8</td>\n",
              "      <td>15</td>\n",
              "    </tr>\n",
              "    <tr>\n",
              "      <th>11</th>\n",
              "      <td>1132</td>\n",
              "      <td>93</td>\n",
              "      <td>8</td>\n",
              "      <td>15</td>\n",
              "    </tr>\n",
              "    <tr>\n",
              "      <th>14</th>\n",
              "      <td>1356</td>\n",
              "      <td>45</td>\n",
              "      <td>4</td>\n",
              "      <td>15</td>\n",
              "    </tr>\n",
              "    <tr>\n",
              "      <th>15</th>\n",
              "      <td>1358</td>\n",
              "      <td>88</td>\n",
              "      <td>2</td>\n",
              "      <td>15</td>\n",
              "    </tr>\n",
              "    <tr>\n",
              "      <th>19</th>\n",
              "      <td>1904</td>\n",
              "      <td>41</td>\n",
              "      <td>6</td>\n",
              "      <td>15</td>\n",
              "    </tr>\n",
              "  </tbody>\n",
              "</table>\n",
              "</div>"
            ],
            "text/plain": [
              "      ID  Power  Period  Sector\n",
              "2   1080     92       5      14\n",
              "3   1091     48       7      14\n",
              "5   1951     45       1      14\n",
              "10  1885     95       8      15\n",
              "11  1132     93       8      15\n",
              "14  1356     45       4      15\n",
              "15  1358     88       2      15\n",
              "19  1904     41       6      15"
            ]
          },
          "metadata": {
            "tags": []
          },
          "execution_count": 11
        }
      ]
    },
    {
      "cell_type": "markdown",
      "metadata": {
        "id": "I3gV-GmnhHph"
      },
      "source": [
        "### For combining multiple thresholds\n",
        "- `&` == and\n",
        "- `|` == or\n",
        "- `>` == greater than\n",
        "- `<=` == less than or equal to\n",
        "- `!=` == not equal to\n",
        "- `==` == exactly equivalent to"
      ]
    },
    {
      "cell_type": "markdown",
      "metadata": {
        "id": "xD40qrr3hHph"
      },
      "source": [
        "# Grab column data"
      ]
    },
    {
      "cell_type": "code",
      "metadata": {
        "colab": {
          "base_uri": "https://localhost:8080/"
        },
        "id": "HEhMoiMfhHpi",
        "outputId": "66614c61-b916-4c8e-f110-136e234d6a59"
      },
      "source": [
        "# grab two columns' data and save to separate arrays\n",
        "\n",
        "#get power column data as a numpy array\n",
        "col_power = main_df['Power'].to_numpy()\n",
        "#get period column data as a numpy array\n",
        "col_period = main_df['Period'].to_numpy()\n",
        "\n",
        "#see how they look\n",
        "print('Power array:',col_power)\n",
        "print('Period array:', col_period)\n",
        "\n",
        "#see what happen w/o .to_numpy() at the end----note this format can cause problems so use .to_numpy()\n",
        "print('See that this is a dataframe object, not an iterable array:\\n', main_df['Power'])"
      ],
      "execution_count": null,
      "outputs": [
        {
          "output_type": "stream",
          "text": [
            "Power array: [82 24 92 48 32 45  4 34 12  1 95 93 18 14 45 88 93 39 34 41]\n",
            "Period array: [10  5  5  7  4  1 11  8  8  1  8  8  5 11  4  2 13  2  1  6]\n",
            "See that this is a dataframe object, not an iterable array:\n",
            " 0     82\n",
            "1     24\n",
            "2     92\n",
            "3     48\n",
            "4     32\n",
            "5     45\n",
            "6      4\n",
            "7     34\n",
            "8     12\n",
            "9      1\n",
            "10    95\n",
            "11    93\n",
            "12    18\n",
            "13    14\n",
            "14    45\n",
            "15    88\n",
            "16    93\n",
            "17    39\n",
            "18    34\n",
            "19    41\n",
            "Name: Power, dtype: int64\n"
          ],
          "name": "stdout"
        }
      ]
    },
    {
      "cell_type": "markdown",
      "metadata": {
        "id": "FPS5egdqhHpi"
      },
      "source": [
        "# Plot the data"
      ]
    },
    {
      "cell_type": "code",
      "metadata": {
        "colab": {
          "base_uri": "https://localhost:8080/",
          "height": 304
        },
        "id": "2GSk6gzfhHpj",
        "outputId": "f0c654b2-8425-4cf9-f5cb-74f3840480e0"
      },
      "source": [
        "# let's plot with matplotlib \n",
        "\n",
        "# grab data from columns\n",
        "\n",
        "#get power column data as a numpy array\n",
        "col_power = main_df['Power'].to_numpy()\n",
        "#get period column data as a numpy array\n",
        "col_period = main_df['Period'].to_numpy()\n",
        "\n",
        "#plot with matplotlib\n",
        "plt.scatter(col_power, col_period, s= 10)\n",
        "plt.title('My plot', fontsize = 20)\n",
        "plt.xlabel('Power', fontsize=15); plt.ylabel('Period', fontsize=15);"
      ],
      "execution_count": null,
      "outputs": [
        {
          "output_type": "display_data",
          "data": {
            "image/png": "[encoded data removed]",
            "text/plain": [
              "<Figure size 432x288 with 1 Axes>"
            ]
          },
          "metadata": {
            "tags": [],
            "needs_background": "light"
          }
        }
      ]
    },
    {
      "cell_type": "markdown",
      "metadata": {
        "id": "Ir6knvpPhHpj"
      },
      "source": [
        "### note that you can also plot using pandas directly"
      ]
    },
    {
      "cell_type": "code",
      "metadata": {
        "colab": {
          "base_uri": "https://localhost:8080/",
          "height": 282
        },
        "id": "8D52YqNohHpj",
        "outputId": "841b4745-1b42-4084-951b-95d833790366"
      },
      "source": [
        "#let's plot them all\n",
        "main_df.plot()"
      ],
      "execution_count": null,
      "outputs": [
        {
          "output_type": "execute_result",
          "data": {
            "text/plain": [
              "<matplotlib.axes._subplots.AxesSubplot at 0x7f78c9b71590>"
            ]
          },
          "metadata": {
            "tags": []
          },
          "execution_count": 14
        },
        {
          "output_type": "display_data",
          "data": {
            "image/png": "[encoded data removed]",
            "text/plain": [
              "<Figure size 432x288 with 1 Axes>"
            ]
          },
          "metadata": {
            "tags": [],
            "needs_background": "light"
          }
        }
      ]
    },
    {
      "cell_type": "code",
      "metadata": {
        "colab": {
          "base_uri": "https://localhost:8080/",
          "height": 282
        },
        "id": "465-YGrPhHpk",
        "outputId": "655c92e7-1fee-4ec4-90da-15e8f03cf7c4"
      },
      "source": [
        "#you can also plot them one at a time\n",
        "main_df['Sector'].plot()"
      ],
      "execution_count": null,
      "outputs": [
        {
          "output_type": "execute_result",
          "data": {
            "text/plain": [
              "<matplotlib.axes._subplots.AxesSubplot at 0x7f78c9667690>"
            ]
          },
          "metadata": {
            "tags": []
          },
          "execution_count": 15
        },
        {
          "output_type": "display_data",
          "data": {
            "image/png": "[encoded data removed]",
            "text/plain": [
              "<Figure size 432x288 with 1 Axes>"
            ]
          },
          "metadata": {
            "tags": [],
            "needs_background": "light"
          }
        }
      ]
    },
    {
      "cell_type": "markdown",
      "metadata": {
        "id": "PyPv-szghHpk"
      },
      "source": [
        "### See this link to learn more about plotting directly with pandas [link](https://pandas.pydata.org/docs/user_guide/visualization.html)"
      ]
    },
    {
      "cell_type": "markdown",
      "metadata": {
        "id": "k8oh4KIQhHpk"
      },
      "source": [
        "# Iterating"
      ]
    },
    {
      "cell_type": "code",
      "metadata": {
        "colab": {
          "base_uri": "https://localhost:8080/"
        },
        "id": "O_YhVsJAhHpk",
        "outputId": "2e36ad20-f799-451f-b018-12e082755b2d"
      },
      "source": [
        "# we will need to iterate over our targets to get the light curves for our best candidates\n",
        "\n",
        "#select some subset data--here those with power above 60\n",
        "mycut = main_df['Power'] > 60\n",
        "#apply threshold cut to get data subset\n",
        "data_subset = main_df[mycut]\n",
        "print('data_subset:\\n',data_subset) #so you can see whats going on\n",
        "\n",
        "#select tic ids from the targets in the data subset\n",
        "ids_subset = data_subset['ID'].to_numpy() \n",
        "print('\\nids_subset:\\n',ids_subset) #so you can see whats going on\n",
        "\n",
        "# do the iteration \n",
        "print('\\nStart of iteration:')#so you can see whats going on\n",
        "for targetid in ids_subset:\n",
        "    # you can use these to open the data with our OpenAndPlot class\n",
        "    # but here I will just print the ID & what sector it comes from\n",
        "    \n",
        "    #find row in df corresponding to ID\n",
        "    df_row = main_df[ main_df['ID'] == targetid]\n",
        "    #select sector value for that row\n",
        "    sector = df_row['Sector'].to_numpy()[0] #[0] needed b/c I want just the value not the array form \n",
        "    #print result of ID & what sector it comes from\n",
        "    print('Star {} comes from Sector {}'.format( targetid, sector ))\n",
        "    "
      ],
      "execution_count": null,
      "outputs": [
        {
          "output_type": "stream",
          "text": [
            "data_subset:\n",
            "       ID  Power  Period  Sector\n",
            "0   1921     82      10      14\n",
            "2   1080     92       5      14\n",
            "10  1885     95       8      15\n",
            "11  1132     93       8      15\n",
            "15  1358     88       2      15\n",
            "16  1502     93      13      15\n",
            "\n",
            "ids_subset:\n",
            " [1921 1080 1885 1132 1358 1502]\n",
            "\n",
            "Start of iteration:\n",
            "Star 1921 comes from Sector 14\n",
            "Star 1080 comes from Sector 14\n",
            "Star 1885 comes from Sector 15\n",
            "Star 1132 comes from Sector 15\n",
            "Star 1358 comes from Sector 15\n",
            "Star 1502 comes from Sector 15\n"
          ],
          "name": "stdout"
        }
      ]
    },
    {
      "cell_type": "markdown",
      "metadata": {
        "id": "yA0FMPfGBB2p"
      },
      "source": [
        "\n",
        "\n",
        "---\n",
        "\n"
      ]
    },
    {
      "cell_type": "code",
      "metadata": {
        "colab": {
          "base_uri": "https://localhost:8080/"
        },
        "id": "9DZyJZaUBBfP",
        "outputId": "9de9e688-f5de-43fc-98d9-b1096659b3f0"
      },
      "source": [
        "## mount google drive to access files\n",
        "\n",
        "from google.colab import drive\n",
        "drive.mount('/content/gdrive',force_remount=True)"
      ],
      "execution_count": null,
      "outputs": [
        {
          "output_type": "stream",
          "text": [
            "Mounted at /content/gdrive\n"
          ],
          "name": "stdout"
        }
      ]
    },
    {
      "cell_type": "code",
      "metadata": {
        "id": "tXunU1JMDl55"
      },
      "source": [
        ""
      ],
      "execution_count": null,
      "outputs": []
    }
  ]
}