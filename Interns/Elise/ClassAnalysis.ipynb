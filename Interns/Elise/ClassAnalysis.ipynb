{
  "nbformat": 4,
  "nbformat_minor": 0,
  "metadata": {
    "colab": {
      "name": "ClassAnalysis.ipynb",
      "provenance": [],
      "authorship_tag": "ABX9TyOCL2ymP/lAc6Hp2UuFr9MF",
      "include_colab_link": true
    },
    "kernelspec": {
      "name": "python3",
      "display_name": "Python 3"
    }
  },
  "cells": [
    {
      "cell_type": "markdown",
      "metadata": {
        "id": "view-in-github",
        "colab_type": "text"
      },
      "source": [
        "<a href=\"https://colab.research.google.com/github/liscolme/EscapeEarth/blob/main/Interns/Elise/ClassAnalysis.ipynb\" target=\"_parent\"><img src=\"https://colab.research.google.com/assets/colab-badge.svg\" alt=\"Open In Colab\"/></a>"
      ]
    },
    {
      "cell_type": "code",
      "metadata": {
        "colab": {
          "base_uri": "https://localhost:8080/"
        },
        "id": "kV15wWVAR4UR",
        "outputId": "44848adb-331b-40d8-98de-3a0221d0579c"
      },
      "source": [
        "## mount google drive to access files\n",
        "\n",
        "from google.colab import drive\n",
        "drive.mount('/content/gdrive',force_remount=True)"
      ],
      "execution_count": null,
      "outputs": [
        {
          "output_type": "stream",
          "text": [
            "Mounted at /content/gdrive\n"
          ],
          "name": "stdout"
        }
      ]
    },
    {
      "cell_type": "code",
      "metadata": {
        "id": "hlslfHAmSpYt"
      },
      "source": [
        "## typical imports\n",
        "%matplotlib inline\n",
        "!pip install lightkurve==1.9.0 #b/c we want a specific function\n",
        "import lightkurve as lk\n",
        "import numpy as np\n",
        "import pandas as pd"
      ],
      "execution_count": null,
      "outputs": []
    },
    {
      "cell_type": "code",
      "metadata": {
        "id": "b7Lw8PrOQzBT"
      },
      "source": [
        "class ClassAnalysis:\n",
        "    #imports needed for class\n",
        "    import lightkurve as lk\n",
        "    import numpy as np\n",
        "    import pandas as pd\n",
        "\n",
        "    def __init__(self,data):\n",
        "        self.telescope = 'TESS'\n",
        "\n",
        "        if type(data)==list:\n",
        "            if len(data)==2:\n",
        "                self.targetid = data[0]\n",
        "                self.sector = data[1]\n",
        "            else:\n",
        "                print('List should have 2 values: [ticid, sector]')\n",
        "        else:\n",
        "            print('Please format data as follows: [ticid,sector]')\n",
        "# \t\treturn\n",
        "\n",
        "    def __repr__(self):\n",
        "#         str_name = str(self.targetid)\n",
        "        return \"TIC: {}\".format(self.targetid)\n",
        "\n",
        "\n",
        "##functions we'll be adding\n",
        "#plot_cleaned_lc: ticid, sector\n",
        "    def plot_cleaned_lc(self):\n",
        "        '''\n",
        "        DESCRIPTION\n",
        "        Scatter plot one cleaned ticid from sectors 14 or 15\n",
        "        INPUTS\n",
        "        ticid    -(int)TESS TIC ID\n",
        "        sector   -(int)the region of oberservation\n",
        "        OUTPUT\n",
        "        Plots lightcurve of specified TIC ID\n",
        "        '''\n",
        "        lc = self.open_lc(stage='clean')\n",
        "        try:\n",
        "            plot = lc.scatter()\n",
        "        except AttributeError:\n",
        "            plot = \"No data or check sector value\"\n",
        "            pass\n",
        "        return plot\n",
        "#open_lc: ticid,sector,stage\n",
        "    def open_lc(self,stage):\n",
        "        if stage == 'raw':\n",
        "            return self.open_raw_lc()\n",
        "        elif stage == 'clean':\n",
        "            return self.open_clean_lc()\n",
        "        else:\n",
        "            return print('stage parameter not understood; valid entries include: \"raw\" or \"clean\"')\n",
        "\n",
        "#open_raw_lc: ticid,sector\n",
        "    def open_raw_lc(self):\n",
        "        try:\n",
        "            filename = glob.glob('/content/gdrive/My Drive/EscapeEarthData/Sector_{}_rawdata/*{}-*-s_lc.fits'.format(self.sector,self.targetid))\n",
        "            lc_file = lk.open(filename[0])\n",
        "            lc = lc_file.PDCSAP_FLUX\n",
        "        except IndexError:\n",
        "            lc = \"None\"\n",
        "            pass\n",
        "        return lc\n",
        "\n",
        "#open_cleaned_lc: ticid,sector\n",
        "    def open_clean_lc(self):\n",
        "        try:\n",
        "            lc_file = lk.open('/content/gdrive/My Drive/EscapeEarthData/Sec{}_cleaned/{}/lc.fits'.format(self.sector, self.targetid))\n",
        "            lc = lc_file.FLUX\n",
        "            lc.targetid = self.targetid\n",
        "            return lc\n",
        "        except FileNotFoundError:\n",
        "            lc = \"None\"\n",
        "            return lc\n",
        "\n",
        "#plot_raw_data: ticid,sector\n",
        "    def plot_raw_data(self):\n",
        "        try:\n",
        "            filename = glob.glob('/content/gdrive/My Drive/EscapeEarthData/Sector_{}_rawdata/*{}-*-s_lc.fits'.format(self.sector, self.targetid))\n",
        "            lc_file = lk.open(filename[0])\n",
        "            lc = lc_file.PDCSAP_FLUX\n",
        "        except IndexError:\n",
        "            lc = \"None\"\n",
        "            pass\n",
        "        return lc.plot()\n",
        "\n",
        "#Start of Class Analysis Functions\n",
        "class Analysis:\n",
        "    #imports needed for class\n",
        "    import lightkurve as lk\n",
        "    import numpy as np\n",
        "    import pandas as pd\n",
        "\n",
        "#Initalizing the class. Setting global attributes.\n",
        "    def __init__(self,lc):\n",
        "        self.telescope = 'TESS'\n",
        "        self.targetid = lc.targetid\n",
        "        self.sector = lc.sector\n",
        "        self.time = lc.time\n",
        "        self.flux = lc.flux\n",
        "        self.flux_err = lc.flux_err\n",
        "        return \n",
        "\n",
        "    def __repr__(self):\n",
        "#         str_name = str(self.targetid)\n",
        "        return \"TIC: {}\".format(self.targetid)\n",
        "\n",
        "    def BLS(self, pN=1000, dN=10):\n",
        "       # from astropy import units as u\n",
        "       from astropy.timeseries import BoxLeastSquares\n",
        "       '''\n",
        "       Purppose\n",
        "       ------------------\n",
        "       A Box Least Squares function to print out the compute stats of the periodogram.\n",
        "       Parameters\n",
        "       -------------------\n",
        "       pN                     - the input for N within our periods function \n",
        "       dN                     - the input for N within our duration grid function\n",
        "       Return\n",
        "       list of stats in the following the order: period, duration, transit-time, power, depth\n",
        "       ------------------\n",
        "       Calculate several statistics of a candidate transit.\n",
        "       '''\n",
        "       #assigning parameters to variables\n",
        "       period =  self.periods(pN)\n",
        "       duration = self.duration_grid(dN)\n",
        "       flat_lc, flat_time = self.flatten()\n",
        "       #t = timestamps\n",
        "       #y = observations\n",
        "       t = flat_time #lc.time #time\n",
        "       y = flat_lc.flux #flux\n",
        "       #dy is the uncertianty\n",
        "       model = BoxLeastSquares(t, y, dy= flat_lc.flux_err)\n",
        "       periodogram = model.power(period,duration)\n",
        "       max_power = np.argmax(periodogram.power)\n",
        "       #calculates the max stats w/in the transit\n",
        "       stats = [periodogram.period[max_power],\n",
        "                            periodogram.duration[max_power],\n",
        "                            periodogram.transit_time[max_power],\n",
        "                            max_power,periodogram.depth[max_power]]\n",
        "       #stats is the one peak, periodogram is the areay\n",
        "       return stats\n",
        "\n",
        "    def periods(self, pN=1000):\n",
        "        period = np.logspace(-0.523, 1.43, pN, endpoint=True)\n",
        "        return period\n",
        "\n",
        "    def duration_grid(self, dN=10):\n",
        "        duration = np.linspace(.01, 0.298, dN)\n",
        "        return duration\n",
        "\n",
        "    def flatten(self):\n",
        "       lc = lk.LightCurve(self.time, self.flux,self.flux_err )\n",
        "       lc_flat = lc.flatten()\n",
        "       flat_time = lc_flat.time - lc_flat.time[0]\n",
        "       return lc_flat, flat_time\n"
      ],
      "execution_count": null,
      "outputs": []
    },
    {
      "cell_type": "code",
      "metadata": {
        "id": "NV7lrFKJQ3wy"
      },
      "source": [
        "target_id = 7582633 \n",
        "target_sector = 14\n",
        "first_star = [target_id,target_sector]"
      ],
      "execution_count": null,
      "outputs": []
    },
    {
      "cell_type": "code",
      "metadata": {
        "colab": {
          "base_uri": "https://localhost:8080/"
        },
        "id": "-353zhyKS7aO",
        "outputId": "fe03075f-e02c-48f0-edd9-426391f1ed82"
      },
      "source": [
        "#initiate a class with our data\n",
        "first_target = ClassAnalysis(first_star)\n",
        "\n",
        "#check class representation of target\n",
        "print(first_target, '\\n', type(first_target,))"
      ],
      "execution_count": null,
      "outputs": [
        {
          "output_type": "stream",
          "text": [
            "TIC: 7582633 \n",
            " <class '__main__.ClassAnalysis'>\n"
          ],
          "name": "stdout"
        }
      ]
    },
    {
      "cell_type": "code",
      "metadata": {
        "colab": {
          "base_uri": "https://localhost:8080/"
        },
        "id": "dNM-UpfkTJnT",
        "outputId": "ac834baf-0175-4c0b-dd1d-5892ee594aa5"
      },
      "source": [
        "## test a few class attributes\n",
        "\n",
        "first_target.targetid, first_target.sector, first_target.telescope"
      ],
      "execution_count": null,
      "outputs": [
        {
          "output_type": "execute_result",
          "data": {
            "text/plain": [
              "(7582633, 14, 'TESS')"
            ]
          },
          "metadata": {
            "tags": []
          },
          "execution_count": 49
        }
      ]
    },
    {
      "cell_type": "code",
      "metadata": {
        "id": "V0YA1CXiVVSs"
      },
      "source": [
        "first_data = first_target.open_lc(stage = 'clean')"
      ],
      "execution_count": null,
      "outputs": []
    },
    {
      "cell_type": "code",
      "metadata": {
        "colab": {
          "base_uri": "https://localhost:8080/"
        },
        "id": "FMiLh9RdYfYf",
        "outputId": "75343bff-ff28-4c31-9195-c9174a3978e8"
      },
      "source": [
        "#initialize 2nd Class\n",
        "\n",
        "first_analysis = Analysis(first_data)\n",
        "first_analysis"
      ],
      "execution_count": null,
      "outputs": [
        {
          "output_type": "execute_result",
          "data": {
            "text/plain": [
              "TIC: 7582633"
            ]
          },
          "metadata": {
            "tags": []
          },
          "execution_count": 51
        }
      ]
    },
    {
      "cell_type": "code",
      "metadata": {
        "colab": {
          "base_uri": "https://localhost:8080/"
        },
        "id": "S_-n4dsLVjF-",
        "outputId": "e337cd1f-e5c5-4ad4-c287-334318773c77"
      },
      "source": [
        "mystats = first_analysis.BLS()\n",
        "mystats"
      ],
      "execution_count": null,
      "outputs": [
        {
          "output_type": "execute_result",
          "data": {
            "text/plain": [
              "[0.2999162518987651, 0.298, 0.157, 0, 0.00039819819922779106]"
            ]
          },
          "metadata": {
            "tags": []
          },
          "execution_count": 53
        }
      ]
    },
    {
      "cell_type": "code",
      "metadata": {
        "id": "IIEuvJ5PZZ5J"
      },
      "source": [
        ""
      ],
      "execution_count": null,
      "outputs": []
    }
  ]
}