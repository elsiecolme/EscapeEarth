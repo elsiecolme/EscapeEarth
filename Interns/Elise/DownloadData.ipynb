{
  "nbformat": 4,
  "nbformat_minor": 0,
  "metadata": {
    "colab": {
      "name": "DownloadData.ipynb",
      "provenance": [],
      "include_colab_link": true
    },
    "kernelspec": {
      "name": "python3",
      "display_name": "Python 3"
    }
  },
  "cells": [
    {
      "cell_type": "markdown",
      "metadata": {
        "id": "view-in-github",
        "colab_type": "text"
      },
      "source": [
        "<a href=\"https://colab.research.google.com/github/elsiecolme/EscapeEarth/blob/main/Interns/Elise/DownloadData.ipynb\" target=\"_parent\"><img src=\"https://colab.research.google.com/assets/colab-badge.svg\" alt=\"Open In Colab\"/></a>"
      ]
    },
    {
      "cell_type": "code",
      "metadata": {
        "id": "r5Vkyb-4JDja",
        "outputId": "3d828820-9976-46cd-e141-1e5187f72a33",
        "colab": {
          "base_uri": "https://localhost:8080/"
        }
      },
      "source": [
        "from google.colab import drive\n",
        "\n",
        "drive.mount('/content/gdrive')"
      ],
      "execution_count": 1,
      "outputs": [
        {
          "output_type": "stream",
          "text": [
            "Mounted at /content/gdrive\n"
          ],
          "name": "stdout"
        }
      ]
    },
    {
      "cell_type": "code",
      "metadata": {
        "id": "TQyjgsomJGwP"
      },
      "source": [
        "import pandas as pd\n",
        "!pip install lightkurve \n",
        "import lightkurve as lk"
      ],
      "execution_count": null,
      "outputs": []
    },
    {
      "cell_type": "code",
      "metadata": {
        "id": "Q6ZtiBBAJQme",
        "outputId": "fa717270-a154-445d-b508-12df8a0602b7",
        "colab": {
          "base_uri": "https://localhost:8080/"
        }
      },
      "source": [
        "!ls /content/gdrive/My\\ Drive/EscapeEarthData"
      ],
      "execution_count": 3,
      "outputs": [
        {
          "output_type": "stream",
          "text": [
            "1161345_lc.csv\tActivity-2\t\t bls_rps.npy\tTeamA\n",
            "1573836_lc.csv\tall_targets_S014_v1.csv  DaniellesTEST\tTeamB\n",
            "2161623_lc.csv\tbls_powers.npy\t\t df8.csv\n"
          ],
          "name": "stdout"
        }
      ]
    },
    {
      "cell_type": "code",
      "metadata": {
        "id": "mf8jDPSoJV3O"
      },
      "source": [
        "sector14 = pd.read_csv('/content/gdrive/My Drive/EscapeEarthData/all_targets_S014_v1.csv', skiprows = 5)"
      ],
      "execution_count": 4,
      "outputs": []
    },
    {
      "cell_type": "code",
      "metadata": {
        "id": "NdXWkqLNKSz5",
        "outputId": "0b06e236-7eb0-4e15-cc51-94acf98af855",
        "colab": {
          "base_uri": "https://localhost:8080/",
          "height": 419
        }
      },
      "source": [
        "sector14"
      ],
      "execution_count": 5,
      "outputs": [
        {
          "output_type": "execute_result",
          "data": {
            "text/html": [
              "<div>\n",
              "<style scoped>\n",
              "    .dataframe tbody tr th:only-of-type {\n",
              "        vertical-align: middle;\n",
              "    }\n",
              "\n",
              "    .dataframe tbody tr th {\n",
              "        vertical-align: top;\n",
              "    }\n",
              "\n",
              "    .dataframe thead th {\n",
              "        text-align: right;\n",
              "    }\n",
              "</style>\n",
              "<table border=\"1\" class=\"dataframe\">\n",
              "  <thead>\n",
              "    <tr style=\"text-align: right;\">\n",
              "      <th></th>\n",
              "      <th>TICID</th>\n",
              "      <th>Camera</th>\n",
              "      <th>CCD</th>\n",
              "      <th>Tmag</th>\n",
              "      <th>RA</th>\n",
              "      <th>Dec</th>\n",
              "    </tr>\n",
              "  </thead>\n",
              "  <tbody>\n",
              "    <tr>\n",
              "      <th>0</th>\n",
              "      <td>7582594</td>\n",
              "      <td>2</td>\n",
              "      <td>3</td>\n",
              "      <td>8.57</td>\n",
              "      <td>272.3966</td>\n",
              "      <td>45.8308</td>\n",
              "    </tr>\n",
              "    <tr>\n",
              "      <th>1</th>\n",
              "      <td>7582633</td>\n",
              "      <td>2</td>\n",
              "      <td>3</td>\n",
              "      <td>9.92</td>\n",
              "      <td>272.3288</td>\n",
              "      <td>45.9244</td>\n",
              "    </tr>\n",
              "    <tr>\n",
              "      <th>2</th>\n",
              "      <td>7582634</td>\n",
              "      <td>2</td>\n",
              "      <td>3</td>\n",
              "      <td>10.48</td>\n",
              "      <td>272.3307</td>\n",
              "      <td>45.9255</td>\n",
              "    </tr>\n",
              "    <tr>\n",
              "      <th>3</th>\n",
              "      <td>7583285</td>\n",
              "      <td>2</td>\n",
              "      <td>2</td>\n",
              "      <td>11.30</td>\n",
              "      <td>272.3711</td>\n",
              "      <td>47.2259</td>\n",
              "    </tr>\n",
              "    <tr>\n",
              "      <th>4</th>\n",
              "      <td>7584049</td>\n",
              "      <td>2</td>\n",
              "      <td>2</td>\n",
              "      <td>8.50</td>\n",
              "      <td>272.5282</td>\n",
              "      <td>47.0887</td>\n",
              "    </tr>\n",
              "    <tr>\n",
              "      <th>...</th>\n",
              "      <td>...</td>\n",
              "      <td>...</td>\n",
              "      <td>...</td>\n",
              "      <td>...</td>\n",
              "      <td>...</td>\n",
              "      <td>...</td>\n",
              "    </tr>\n",
              "    <tr>\n",
              "      <th>19995</th>\n",
              "      <td>1980752885</td>\n",
              "      <td>2</td>\n",
              "      <td>1</td>\n",
              "      <td>16.91</td>\n",
              "      <td>303.1632</td>\n",
              "      <td>60.2862</td>\n",
              "    </tr>\n",
              "    <tr>\n",
              "      <th>19996</th>\n",
              "      <td>1980968952</td>\n",
              "      <td>2</td>\n",
              "      <td>1</td>\n",
              "      <td>8.65</td>\n",
              "      <td>301.3995</td>\n",
              "      <td>63.7061</td>\n",
              "    </tr>\n",
              "    <tr>\n",
              "      <th>19997</th>\n",
              "      <td>1980968953</td>\n",
              "      <td>2</td>\n",
              "      <td>1</td>\n",
              "      <td>8.76</td>\n",
              "      <td>301.3993</td>\n",
              "      <td>63.7056</td>\n",
              "    </tr>\n",
              "    <tr>\n",
              "      <th>19998</th>\n",
              "      <td>1981207128</td>\n",
              "      <td>2</td>\n",
              "      <td>1</td>\n",
              "      <td>7.88</td>\n",
              "      <td>300.4913</td>\n",
              "      <td>65.8903</td>\n",
              "    </tr>\n",
              "    <tr>\n",
              "      <th>19999</th>\n",
              "      <td>1981303680</td>\n",
              "      <td>3</td>\n",
              "      <td>2</td>\n",
              "      <td>8.20</td>\n",
              "      <td>300.3917</td>\n",
              "      <td>70.4546</td>\n",
              "    </tr>\n",
              "  </tbody>\n",
              "</table>\n",
              "<p>20000 rows × 6 columns</p>\n",
              "</div>"
            ],
            "text/plain": [
              "            TICID   Camera   CCD   Tmag        RA      Dec\n",
              "0         7582594        2     3   8.57  272.3966  45.8308\n",
              "1         7582633        2     3   9.92  272.3288  45.9244\n",
              "2         7582634        2     3  10.48  272.3307  45.9255\n",
              "3         7583285        2     2  11.30  272.3711  47.2259\n",
              "4         7584049        2     2   8.50  272.5282  47.0887\n",
              "...           ...      ...   ...    ...       ...      ...\n",
              "19995  1980752885        2     1  16.91  303.1632  60.2862\n",
              "19996  1980968952        2     1   8.65  301.3995  63.7061\n",
              "19997  1980968953        2     1   8.76  301.3993  63.7056\n",
              "19998  1981207128        2     1   7.88  300.4913  65.8903\n",
              "19999  1981303680        3     2   8.20  300.3917  70.4546\n",
              "\n",
              "[20000 rows x 6 columns]"
            ]
          },
          "metadata": {
            "tags": []
          },
          "execution_count": 5
        }
      ]
    },
    {
      "cell_type": "code",
      "metadata": {
        "id": "iV5NKCr7KciE",
        "outputId": "7a7f86b3-fd9a-48bf-a6c7-0f0441704e39",
        "colab": {
          "base_uri": "https://localhost:8080/"
        }
      },
      "source": [
        "from lightkurve import search_lightcurvefile\n",
        "tpf = search_lightcurvefile( \"TIC 7582594\", mission=\"TESS\", sector = 14).download()\n",
        "tpf"
      ],
      "execution_count": 6,
      "outputs": [
        {
          "output_type": "execute_result",
          "data": {
            "text/plain": [
              "TessLightCurveFile(TICID: 7582594)"
            ]
          },
          "metadata": {
            "tags": []
          },
          "execution_count": 6
        }
      ]
    },
    {
      "cell_type": "code",
      "metadata": {
        "id": "JmVKOITmO_vx",
        "outputId": "9103dd1d-d06b-4185-e9c8-3d96f7ecb506",
        "colab": {
          "base_uri": "https://localhost:8080/",
          "height": 393
        }
      },
      "source": [
        "tpf.plot();"
      ],
      "execution_count": 7,
      "outputs": [
        {
          "output_type": "display_data",
          "data": {
            "image/png": "[encoded data removed]",
            "text/plain": [
              "<Figure size 848.5x400 with 1 Axes>"
            ]
          },
          "metadata": {
            "tags": []
          }
        }
      ]
    },
    {
      "cell_type": "code",
      "metadata": {
        "id": "_cnxw7ezYki6",
        "outputId": "5adae290-f549-4281-a112-6037e1908187",
        "colab": {
          "base_uri": "https://localhost:8080/",
          "height": 130
        }
      },
      "source": [
        "#def sec14(ID):\n",
        "  TIC = 'TIC ' + ID\n",
        "  tpf = search_lightcurvefile( TIC, mission=\"TESS\", sector = 14).download()\n",
        "  #return tpf.plot();"
      ],
      "execution_count": 8,
      "outputs": [
        {
          "output_type": "error",
          "ename": "IndentationError",
          "evalue": "ignored",
          "traceback": [
            "\u001b[0;36m  File \u001b[0;32m\"<ipython-input-8-49ca87448eb5>\"\u001b[0;36m, line \u001b[0;32m2\u001b[0m\n\u001b[0;31m    TIC = 'TIC ' + ID\u001b[0m\n\u001b[0m    ^\u001b[0m\n\u001b[0;31mIndentationError\u001b[0m\u001b[0;31m:\u001b[0m unexpected indent\n"
          ]
        }
      ]
    },
    {
      "cell_type": "code",
      "metadata": {
        "id": "BCsxSrVjVhPI"
      },
      "source": [
        "sector14['TICID'].to_numpy()[0:5]\n",
        "TICID = sector14['TICID'].to_numpy()[0:5]"
      ],
      "execution_count": 9,
      "outputs": []
    },
    {
      "cell_type": "code",
      "metadata": {
        "id": "FBONUanDc3kR",
        "outputId": "778b71f8-5e12-41b8-9202-f8eac2df276e",
        "colab": {
          "base_uri": "https://localhost:8080/"
        }
      },
      "source": [
        "TICID"
      ],
      "execution_count": 10,
      "outputs": [
        {
          "output_type": "execute_result",
          "data": {
            "text/plain": [
              "array([7582594, 7582633, 7582634, 7583285, 7584049])"
            ]
          },
          "metadata": {
            "tags": []
          },
          "execution_count": 10
        }
      ]
    },
    {
      "cell_type": "code",
      "metadata": {
        "id": "4-t7hQkZbdQe",
        "outputId": "cc6a8f81-90d8-4272-b83f-57b9130e3045",
        "colab": {
          "base_uri": "https://localhost:8080/"
        }
      },
      "source": [
        "for i in TICID:\n",
        "  TIC = 'TIC ' + str(i)\n",
        "  lcf = search_lightcurvefile(TIC, mission=\"TESS\", sector = 14).download()\n",
        "  lc = lcf.PDCSAP_FLUX\n",
        "\n",
        "  print (lc)"
      ],
      "execution_count": 41,
      "outputs": [
        {
          "output_type": "stream",
          "text": [
            "TessLightCurve(TICID: 7582594)\n",
            "TessLightCurve(TICID: 7582633)\n",
            "TessLightCurve(TICID: 7582634)\n",
            "TessLightCurve(TICID: 7583285)\n",
            "TessLightCurve(TICID: 7584049)\n"
          ],
          "name": "stdout"
        }
      ]
    },
    {
      "cell_type": "code",
      "metadata": {
        "id": "rglcjbX-plcX",
        "outputId": "e3c5c3f1-f217-4888-e1a2-c4e2631346c8",
        "colab": {
          "base_uri": "https://localhost:8080/"
        }
      },
      "source": [
        "!pip install astropy\n",
        "from astropy.io import fits"
      ],
      "execution_count": 28,
      "outputs": [
        {
          "output_type": "stream",
          "text": [
            "Requirement already satisfied: astropy in /usr/local/lib/python3.6/dist-packages (4.1)\n",
            "Requirement already satisfied: numpy>=1.16 in /usr/local/lib/python3.6/dist-packages (from astropy) (1.18.5)\n"
          ],
          "name": "stdout"
        }
      ]
    },
    {
      "cell_type": "code",
      "metadata": {
        "id": "rUrn0u4MqDYe"
      },
      "source": [
        "lc.to_fits(path='sector14.fits', overwrite=True)"
      ],
      "execution_count": 32,
      "outputs": []
    },
    {
      "cell_type": "code",
      "metadata": {
        "id": "wMREenwIuPbw",
        "outputId": "88a167bd-d5df-4e5c-b15f-8841e415770f",
        "colab": {
          "base_uri": "https://localhost:8080/"
        }
      },
      "source": [
        "hdu = fits.open('sector14.fits')\n",
        "type(hdu)"
      ],
      "execution_count": 33,
      "outputs": [
        {
          "output_type": "execute_result",
          "data": {
            "text/plain": [
              "astropy.io.fits.hdu.hdulist.HDUList"
            ]
          },
          "metadata": {
            "tags": []
          },
          "execution_count": 33
        }
      ]
    },
    {
      "cell_type": "code",
      "metadata": {
        "id": "jfNeMA0kvbxo",
        "outputId": "28bd116b-a90c-4249-9814-0a77a10fdec4",
        "colab": {
          "base_uri": "https://localhost:8080/"
        }
      },
      "source": [
        "hdu.info()"
      ],
      "execution_count": 35,
      "outputs": [
        {
          "output_type": "stream",
          "text": [
            "Filename: sector14.fits\n",
            "No.    Name      Ver    Type      Cards   Dimensions   Format\n",
            "  0  PRIMARY       1 PrimaryHDU      27   ()      \n",
            "  1  LIGHTCURVE    1 BinTableHDU     28   18424R x 7C   [D, E, E, J, D, D, J]   \n"
          ],
          "name": "stdout"
        }
      ]
    },
    {
      "cell_type": "code",
      "metadata": {
        "id": "aWBGe0pQvce5",
        "outputId": "3639de64-989a-491d-e760-9e7a1f61fb5f",
        "colab": {
          "base_uri": "https://localhost:8080/"
        }
      },
      "source": [
        "hdu[0].header"
      ],
      "execution_count": 36,
      "outputs": [
        {
          "output_type": "execute_result",
          "data": {
            "text/plain": [
              "SIMPLE  =                    T / conforms to FITS standards                     \n",
              "BITPIX  =                    8 / array data type                                \n",
              "NAXIS   =                    0 / number of array dimensions                     \n",
              "EXTEND  =                    T / file contains extensions                       \n",
              "NEXTEND =                    2 / number of standard extensions                  \n",
              "EXTNAME = 'PRIMARY '           / name of extension                              \n",
              "EXTVER  =                    1 / extension version number (not format version)  \n",
              "ORIGIN  = 'Unofficial data product' / institution responsible for file          \n",
              "DATE    = '2020-11-05'         / file creation date.                            \n",
              "CREATOR = 'lightkurve.LightCurve.to_fits()' / pipeline job and program used t   \n",
              "TELESCOP= 'TESS    '           / telescope                                      \n",
              "INSTRUME=  / detector type                                                      \n",
              "OBJECT  = '7584049 '           / string version of target id                    \n",
              "KEPLERID=  / unique Kepler target identifier                                    \n",
              "CHANNEL =  / CCD channel                                                        \n",
              "RADESYS = 'ICRS    '           / reference frame of celestial coordinates       \n",
              "RA_OBJ  =     272.528045319936 / [deg] right ascension                          \n",
              "DEC_OBJ =     47.0888021370167 / [deg] declination                              \n",
              "EQUINOX =               2000.0 / equinox of celestial coordinate system         \n",
              "PROCVER = '1.11.3  '                                                            \n",
              "MISSION = 'TESS    '                                                            \n",
              "CAMERA  =                    2                                                  \n",
              "CCD     =                    2                                                  \n",
              "SECTOR  =                   14                                                  \n",
              "TARGETID=              7584049                                                  \n",
              "CHECKSUM= 'G8cZJ6ZZG6aZG6YZ'   / HDU checksum updated 2020-11-05T23:28:22       \n",
              "DATASUM = '0       '           / data unit checksum updated 2020-11-05T23:28:22 "
            ]
          },
          "metadata": {
            "tags": []
          },
          "execution_count": 36
        }
      ]
    },
    {
      "cell_type": "code",
      "metadata": {
        "id": "ObHqmHTLvjfs",
        "outputId": "0d392341-89aa-40ac-e902-9dda969e2767",
        "colab": {
          "base_uri": "https://localhost:8080/"
        }
      },
      "source": [
        "print(lc)"
      ],
      "execution_count": 37,
      "outputs": [
        {
          "output_type": "stream",
          "text": [
            "TessLightCurve(TICID: 7584049)\n"
          ],
          "name": "stdout"
        }
      ]
    },
    {
      "cell_type": "code",
      "metadata": {
        "id": "O4GhlI_ovoIc"
      },
      "source": [
        ""
      ],
      "execution_count": null,
      "outputs": []
    }
  ]
}