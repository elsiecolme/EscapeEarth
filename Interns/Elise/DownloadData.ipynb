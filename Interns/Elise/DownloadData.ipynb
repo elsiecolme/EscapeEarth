{
  "nbformat": 4,
  "nbformat_minor": 0,
  "metadata": {
    "colab": {
      "name": "DownloadData.ipynb",
      "provenance": [],
      "authorship_tag": "ABX9TyPVGlDi4frvh3wLthDFxbEG",
      "include_colab_link": true
    },
    "kernelspec": {
      "name": "python3",
      "display_name": "Python 3"
    }
  },
  "cells": [
    {
      "cell_type": "markdown",
      "metadata": {
        "id": "view-in-github",
        "colab_type": "text"
      },
      "source": [
        "<a href=\"https://colab.research.google.com/github/elsiecolme/EscapeEarth/blob/main/Interns/Elise/DownloadData.ipynb\" target=\"_parent\"><img src=\"https://colab.research.google.com/assets/colab-badge.svg\" alt=\"Open In Colab\"/></a>"
      ]
    },
    {
      "cell_type": "code",
      "metadata": {
        "id": "r5Vkyb-4JDja",
        "outputId": "a5808b76-2dcf-4a03-a404-4cd75f8db7aa",
        "colab": {
          "base_uri": "https://localhost:8080/",
          "height": 34
        }
      },
      "source": [
        "from google.colab import drive\n",
        "\n",
        "drive.mount('/content/gdrive')"
      ],
      "execution_count": null,
      "outputs": [
        {
          "output_type": "stream",
          "text": [
            "Mounted at /content/gdrive\n"
          ],
          "name": "stdout"
        }
      ]
    },
    {
      "cell_type": "code",
      "metadata": {
        "id": "TQyjgsomJGwP"
      },
      "source": [
        "import pandas as pd\n",
        "import numpy as np\n",
        "!pip install lightkurve \n",
        "import lightkurve as lp"
      ],
      "execution_count": null,
      "outputs": []
    },
    {
      "cell_type": "code",
      "metadata": {
        "id": "Q6ZtiBBAJQme",
        "outputId": "0973ba28-c755-4dca-d1ed-18e0ba8cd5cb",
        "colab": {
          "base_uri": "https://localhost:8080/",
          "height": 51
        }
      },
      "source": [
        "!ls /content/gdrive/My\\ Drive/EscapeEarthData"
      ],
      "execution_count": null,
      "outputs": [
        {
          "output_type": "stream",
          "text": [
            "1161345_lc.csv\t2161623_lc.csv\tall_targets_S014_v1.csv  bls_rps.npy\n",
            "1573836_lc.csv\tActivity-2\tbls_powers.npy\t\t df8.csv\n"
          ],
          "name": "stdout"
        }
      ]
    },
    {
      "cell_type": "code",
      "metadata": {
        "id": "mf8jDPSoJV3O",
        "outputId": "802700f6-c2c6-4dc5-db8f-316f902fbd43",
        "colab": {
          "base_uri": "https://localhost:8080/",
          "height": 71
        }
      },
      "source": [
        "data = pd.read_csv('/content/gdrive/My Drive/EscapeEarthData/all_targets_S014_v1.csv',header=0,delimiter =' ')"
      ],
      "execution_count": null,
      "outputs": [
        {
          "output_type": "stream",
          "text": [
            "/usr/local/lib/python3.6/dist-packages/ipykernel_launcher.py:1: ParserWarning: Falling back to the 'python' engine because the 'c' engine does not support regex separators (separators > 1 char and different from '\\s+' are interpreted as regex); you can avoid this warning by specifying engine='python'.\n",
            "  \"\"\"Entry point for launching an IPython kernel.\n"
          ],
          "name": "stderr"
        }
      ]
    },
    {
      "cell_type": "code",
      "metadata": {
        "id": "NdXWkqLNKSz5",
        "outputId": "57d1ccbe-675c-42f9-b772-bd7d941f9a0b",
        "colab": {
          "base_uri": "https://localhost:8080/",
          "height": 419
        }
      },
      "source": [
        "data"
      ],
      "execution_count": null,
      "outputs": [
        {
          "output_type": "execute_result",
          "data": {
            "text/html": [
              "<div>\n",
              "<style scoped>\n",
              "    .dataframe tbody tr th:only-of-type {\n",
              "        vertical-align: middle;\n",
              "    }\n",
              "\n",
              "    .dataframe tbody tr th {\n",
              "        vertical-align: top;\n",
              "    }\n",
              "\n",
              "    .dataframe thead th {\n",
              "        text-align: right;\n",
              "    }\n",
              "</style>\n",
              "<table border=\"1\" class=\"dataframe\">\n",
              "  <thead>\n",
              "    <tr style=\"text-align: right;\">\n",
              "      <th></th>\n",
              "      <th>#</th>\n",
              "    </tr>\n",
              "  </thead>\n",
              "  <tbody>\n",
              "    <tr>\n",
              "      <th>0</th>\n",
              "      <td># Full target list for orbit 35, sector 14</td>\n",
              "    </tr>\n",
              "    <tr>\n",
              "      <th>1</th>\n",
              "      <td># Created Wed Jul 31 15:53:37 EDT 2019</td>\n",
              "    </tr>\n",
              "    <tr>\n",
              "      <th>2</th>\n",
              "      <td># Concatenation of GI astero exo bright DDT pp...</td>\n",
              "    </tr>\n",
              "    <tr>\n",
              "      <th>3</th>\n",
              "      <td>#</td>\n",
              "    </tr>\n",
              "    <tr>\n",
              "      <th>4</th>\n",
              "      <td>TICID, Camera, CCD, Tmag, RA, Dec</td>\n",
              "    </tr>\n",
              "    <tr>\n",
              "      <th>...</th>\n",
              "      <td>...</td>\n",
              "    </tr>\n",
              "    <tr>\n",
              "      <th>20000</th>\n",
              "      <td>1980752885,2,1,16.91,303.1632,60.2862</td>\n",
              "    </tr>\n",
              "    <tr>\n",
              "      <th>20001</th>\n",
              "      <td>1980968952,2,1,8.65,301.3995,63.7061</td>\n",
              "    </tr>\n",
              "    <tr>\n",
              "      <th>20002</th>\n",
              "      <td>1980968953,2,1,8.76,301.3993,63.7056</td>\n",
              "    </tr>\n",
              "    <tr>\n",
              "      <th>20003</th>\n",
              "      <td>1981207128,2,1,7.88,300.4913,65.8903</td>\n",
              "    </tr>\n",
              "    <tr>\n",
              "      <th>20004</th>\n",
              "      <td>1981303680,3,2,8.20,300.3917,70.4546</td>\n",
              "    </tr>\n",
              "  </tbody>\n",
              "</table>\n",
              "<p>20005 rows × 1 columns</p>\n",
              "</div>"
            ],
            "text/plain": [
              "                                                       #\n",
              "0             # Full target list for orbit 35, sector 14\n",
              "1                # Created Wed Jul 31 15:53:37 EDT 2019 \n",
              "2      # Concatenation of GI astero exo bright DDT pp...\n",
              "3                                                      #\n",
              "4                      TICID, Camera, CCD, Tmag, RA, Dec\n",
              "...                                                  ...\n",
              "20000              1980752885,2,1,16.91,303.1632,60.2862\n",
              "20001               1980968952,2,1,8.65,301.3995,63.7061\n",
              "20002               1980968953,2,1,8.76,301.3993,63.7056\n",
              "20003               1981207128,2,1,7.88,300.4913,65.8903\n",
              "20004               1981303680,3,2,8.20,300.3917,70.4546\n",
              "\n",
              "[20005 rows x 1 columns]"
            ]
          },
          "metadata": {
            "tags": []
          },
          "execution_count": 12
        }
      ]
    },
    {
      "cell_type": "code",
      "metadata": {
        "id": "iV5NKCr7KciE"
      },
      "source": [
        ""
      ],
      "execution_count": null,
      "outputs": []
    }
  ]
}